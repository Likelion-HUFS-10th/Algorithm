{
 "cells": [
  {
   "cell_type": "markdown",
   "id": "77089617",
   "metadata": {},
   "source": [
    "### 다이나믹 프로그래밍\n",
    "- 다이나믹 프로그래밍이란?\n",
    "    - 동적계획법\n",
    "    - 큰 문제를 작은 문제로 나눌 수 있을 때\n",
    "    - 작은 문제에서 구한 정답은 그것을 포함하는 큰 문제에서도 동일할 때\n",
    "    - 메모이제이션 사용\n",
    "        - 메모이제이션: 한번 구한 결과는 메모리 공간에 메모해두고, 같은 식을 다시 호출하면 메모한 결과를 그대로 가져오는 방법\n",
    "        - 캐싱이라고도 함\n",
    "    - 큰 문제를 작게 나누고 같은 문제라면 한번만 풀게 하는 효율적인 방법\n",
    "    - 완전 탐색으로 접근 중 시간이 오래 걸릴경우 다이나믹 프로그래밍으로 접근 시도"
   ]
  },
  {
   "cell_type": "markdown",
   "id": "416909a6",
   "metadata": {},
   "source": [
    "### 다이나믹 프로그래밍 종류\n",
    "- 탑다운 방식\n",
    "    - 재귀함수 사용\n",
    "    - 큰 문제를 해결하기 위해 작은 문제 호출\n",
    "    - 하향식\n",
    "    - 재귀 함수의 스택 크기가 한정되어 있을 수 있음 -> resursion depth 오류 발생 가능\n",
    "        - setrecursionlimit()함수 사용\n",
    "- 바텀업 방식\n",
    "    - 반복문 사용\n",
    "    - 작은 문제부터 답을 도출\n",
    "    - 상향식"
   ]
  },
  {
   "cell_type": "markdown",
   "id": "9c59ac5f",
   "metadata": {},
   "source": [
    "### 피보나치 함수\n",
    "- 재귀로 구현시 n이 커질수록 시간 복잡도가 높아짐"
   ]
  },
  {
   "cell_type": "code",
   "execution_count": 1,
   "id": "4dc93fad",
   "metadata": {},
   "outputs": [
    {
     "name": "stdout",
     "output_type": "stream",
     "text": [
      "3\n"
     ]
    }
   ],
   "source": [
    "# 피보나치 함수 재귀로 구현\n",
    "def fibo(x):\n",
    "    if x == 1or x == 2:\n",
    "        return 1\n",
    "    return fibo(x-1) + fibo(x-2)\n",
    "print(fibo(4))"
   ]
  },
  {
   "cell_type": "code",
   "execution_count": 2,
   "id": "677fc670",
   "metadata": {},
   "outputs": [
    {
     "name": "stdout",
     "output_type": "stream",
     "text": [
      "218922995834555169026\n"
     ]
    }
   ],
   "source": [
    "# 피보나치 함수 탑다운 방식\n",
    "d = [0] * 100\n",
    "\n",
    "def fibo(x):\n",
    "    if x == 1 or x == 2:\n",
    "        return 1\n",
    "    if d[x] != 0:\n",
    "        return d[x]\n",
    "    d[x] = fibo(x-1) + fibo(x-2)\n",
    "    return d[x]\n",
    "\n",
    "print(fibo(99))"
   ]
  },
  {
   "cell_type": "code",
   "execution_count": 3,
   "id": "d0ab315f",
   "metadata": {},
   "outputs": [
    {
     "name": "stdout",
     "output_type": "stream",
     "text": [
      "218922995834555169026\n"
     ]
    }
   ],
   "source": [
    "# 피보나치 함수 바텀업 방식\n",
    "d = [0] * 100\n",
    "d[1] = 1\n",
    "d[2] = 1\n",
    "n = 99\n",
    "for i in range(3,n+1):\n",
    "    d[i] = d[i-1] + d[i-2]\n",
    "print(d[n])"
   ]
  },
  {
   "cell_type": "markdown",
   "id": "7ee2ebdf",
   "metadata": {},
   "source": [
    "### 예제 1 | 1로 만들기 \n",
    "- x가 5로 나누어떨어지면 5로 나눈다\n",
    "- x가 3으로 나누어떨어지면 3으로 나눈다\n",
    "- x가 2로 나누어떨어지면 2로 나눈다\n",
    "- x에서 1을 뺀다\n",
    "- 연산 4개를 적절히 사용해 1을 만들 때 연산 횟수의 최솟값을 구하시오"
   ]
  },
  {
   "cell_type": "code",
   "execution_count": 5,
   "id": "103088bd",
   "metadata": {},
   "outputs": [
    {
     "name": "stdout",
     "output_type": "stream",
     "text": [
      "26\n",
      "3\n"
     ]
    }
   ],
   "source": [
    "x = int(input())\n",
    "\n",
    "d = [0] * 30000\n",
    "\n",
    "for i in range(2,n+1):\n",
    "    d[i] = d[i-1] + 1 # 그냥 1을 빼는 경우\n",
    "    if i % 2 == 0:\n",
    "        d[i] = min(d[i], d[i//2]+1)\n",
    "    if i % 3 == 0:\n",
    "        d[i] = min(d[i], d[i//3]+1)\n",
    "    if i % 5 == 0:\n",
    "        d[i] = min(d[i], d[i//5]+1)\n",
    "# d[i]가 계속 변경되기 때문에 둘다 적용되는 경우를 따로 처리해줄 필요가 없음        \n",
    "print(d[x])        "
   ]
  },
  {
   "cell_type": "markdown",
   "id": "e18a11d8",
   "metadata": {},
   "source": [
    "### 예제 2 | 개미 전사\n",
    "- 최소한 한칸 이상 떨어진 식량창고를 약탈해야함\n",
    "- 약탈할 수 있는 식량의 최댓값을 구하기"
   ]
  },
  {
   "cell_type": "code",
   "execution_count": 7,
   "id": "fbd22ab6",
   "metadata": {},
   "outputs": [
    {
     "name": "stdout",
     "output_type": "stream",
     "text": [
      "4\n",
      "1 3 1 5\n",
      "8\n"
     ]
    }
   ],
   "source": [
    "n = int(input())\n",
    "store = list(map(int,input().split()))\n",
    "\n",
    "d = [0] * 100\n",
    "d[1] = store[0]\n",
    "\n",
    "for i in range(2,n+1):\n",
    "    d[i] = max(d[i-2]+store[i-1],d[i-1])\n",
    "    \n",
    "print(d[n])"
   ]
  },
  {
   "cell_type": "markdown",
   "id": "a5965750",
   "metadata": {},
   "source": [
    "### 예제 3 | 바닥 공사\n",
    "- 가로 n, 세로 2인 바닥이 존재\n",
    "- 1x2, 2x1, 2x2로 바닥을 채우는 경우의 수 구하기"
   ]
  },
  {
   "cell_type": "code",
   "execution_count": 10,
   "id": "d8e02e6b",
   "metadata": {},
   "outputs": [
    {
     "name": "stdout",
     "output_type": "stream",
     "text": [
      "3\n",
      "5\n"
     ]
    }
   ],
   "source": [
    "n = int(input())\n",
    "\n",
    "d = [0] * 1001\n",
    "d[1] = 1\n",
    "d[2] = 3\n",
    "\n",
    "for i in range(3,n+1):\n",
    "    d[i] = (d[i-1] + d[i-2] * 2) % 796796\n",
    "    \n",
    "print(d[n])"
   ]
  },
  {
   "cell_type": "markdown",
   "id": "0da44d90",
   "metadata": {},
   "source": [
    "### 예제 4 | 효율적인 화폐 구성\n",
    "- n가지 종류의 화폐가 존재\n",
    "- 화폐의 개수를 최소한으로 이용해서 가치의 합이 M이 되게 하는 방법\n",
    "- 불가능할때는 -1 출력"
   ]
  },
  {
   "cell_type": "code",
   "execution_count": 17,
   "id": "4275e45e",
   "metadata": {},
   "outputs": [
    {
     "name": "stdout",
     "output_type": "stream",
     "text": [
      "2 15\n",
      "2\n",
      "3\n",
      "5\n"
     ]
    }
   ],
   "source": [
    "# 답지 참고\n",
    "n, m = map(int,input().split())\n",
    "money = []\n",
    "\n",
    "for _ in range(n):\n",
    "    money.append(int(input()))\n",
    "    \n",
    "d = [10001] * 10001\n",
    "d[0] = 0\n",
    "for i in range(n):\n",
    "    for j in range(money[i],m+1):\n",
    "        if d[j-money[i]] != 10001:\n",
    "            d[j] = min(d[j],d[j-money[i]]+1)\n",
    "\n",
    "if d[m] == 10001:\n",
    "    print(-1)\n",
    "else:\n",
    "    print(d[m])"
   ]
  }
 ],
 "metadata": {
  "kernelspec": {
   "display_name": "Python 3 (ipykernel)",
   "language": "python",
   "name": "python3"
  },
  "language_info": {
   "codemirror_mode": {
    "name": "ipython",
    "version": 3
   },
   "file_extension": ".py",
   "mimetype": "text/x-python",
   "name": "python",
   "nbconvert_exporter": "python",
   "pygments_lexer": "ipython3",
   "version": "3.9.7"
  }
 },
 "nbformat": 4,
 "nbformat_minor": 5
}
