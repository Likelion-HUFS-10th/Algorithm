{
 "cells": [
  {
   "cell_type": "markdown",
   "id": "4c23b8d4",
   "metadata": {},
   "source": [
    "### 정렬 알고리즘\n",
    "- 정렬 알고리즘이란?\n",
    "    - 데이터를 특정한 기준에 따라서 순서대로 나열하는 알고리즘\n",
    "    - 이진 탐색의 기반이 되는 알고리즘"
   ]
  },
  {
   "cell_type": "markdown",
   "id": "62ba1931",
   "metadata": {},
   "source": [
    "### 선택 정렬(selection sort)\n",
    "- 가장 작은 데이터를 선택해 맨 앞에 있는 데이터와 바꾸는 방식\n",
    "- 위의 과정을 반복하여 정렬 완성\n",
    "- 다른 정렬 방법 대비 비효율적(개수가 증가할수록)"
   ]
  },
  {
   "cell_type": "code",
   "execution_count": 1,
   "id": "ee2370d8",
   "metadata": {},
   "outputs": [
    {
     "name": "stdout",
     "output_type": "stream",
     "text": [
      "[0, 1, 2, 3, 4, 5, 6, 7, 8, 9]\n"
     ]
    }
   ],
   "source": [
    "# 선택 정렬 ex\n",
    "array = [7,5,9,0,3,1,6,2,4,8]\n",
    "\n",
    "for i in range(len(array)):\n",
    "    min_index = i\n",
    "    for j in range(i+1, len(array)):\n",
    "        if array[min_index] > array[j]:\n",
    "            min_index = j\n",
    "    array[i], array[min_index] = array[min_index], array[i]\n",
    "print(array)"
   ]
  },
  {
   "cell_type": "markdown",
   "id": "7141e044",
   "metadata": {},
   "source": [
    "### 삽입 정렬(insertion sort)\n",
    "- 데이터를 하나씩 확인하여 각 데이터를 적절한 위치에 삽입\n",
    "- 필요할때만 위치를 바꿔 데이터가 거의 정렬되어 있을 때 효율적\n",
    "- 첫번째는 정렬되어 있다고 생각하고 두번째부터 시작함\n",
    "- 위치에 따라 삽입될 수 있는 경우의 수가 다름\n",
    "- 정렬이 이루어진 원소는 오름차순을 유지\n",
    "    - 자신보다 작은 데이터를 만나면 그 왼쪽은 고려할 필요가 없음"
   ]
  },
  {
   "cell_type": "code",
   "execution_count": 2,
   "id": "562dabc9",
   "metadata": {},
   "outputs": [
    {
     "name": "stdout",
     "output_type": "stream",
     "text": [
      "[0, 1, 2, 3, 4, 5, 6, 7, 8, 9]\n"
     ]
    }
   ],
   "source": [
    "# 삽입 정렬 ex\n",
    "array = [7,5,9,0,3,1,6,2,4,8]\n",
    "\n",
    "for i in range(1, len(array)):\n",
    "    for j in range(i,0,-1):\n",
    "        if array[j] < array[j-1]:\n",
    "            array[j], array[j-1] = array[j-1], array[j]\n",
    "        else:\n",
    "            break\n",
    "print(array)"
   ]
  },
  {
   "cell_type": "markdown",
   "id": "d82e22b3",
   "metadata": {},
   "source": [
    "### 퀵 정렬(quick sort)\n",
    "- 기준 데이터를 설정하고 그 기준보다 큰 데이터와 작은 데이터의 위치를 바꿈\n",
    "- 기준 => 피벗(pivot)을 설정\n",
    "- 피벗을 기준으로 왼쪽에서는 피벗보다 큰 데이터를, 오른쪽에서는 피벗보다 작은 데이터를 찾음"
   ]
  },
  {
   "cell_type": "code",
   "execution_count": 1,
   "id": "7f396ff5",
   "metadata": {},
   "outputs": [
    {
     "name": "stdout",
     "output_type": "stream",
     "text": [
      "[0, 1, 2, 3, 4, 5, 6, 7, 8, 9]\n"
     ]
    }
   ],
   "source": [
    "# 퀵 정렬 ex\n",
    "array = [7,5,9,0,3,1,6,2,4,8]\n",
    "\n",
    "def quick_sort(array, start, end):\n",
    "    if start >= end:\n",
    "        return\n",
    "    pivot = start\n",
    "    left = start + 1\n",
    "    right = end\n",
    "    while left <= right:\n",
    "        while left <= end and array[left] <= array[pivot]:\n",
    "            left += 1\n",
    "        while right > start and array[right] >= array[pivot]:\n",
    "            right -= 1\n",
    "        if left > right:\n",
    "            array[right], array[pivot] = array[pivot], array[right]\n",
    "        else:\n",
    "            array[left], array[right] = array[right], array[left]\n",
    "    quick_sort(array, start, right-1)\n",
    "    quick_sort(array, right+1, end)\n",
    "quick_sort(array,0,len(array)-1)\n",
    "print(array)"
   ]
  },
  {
   "cell_type": "code",
   "execution_count": 3,
   "id": "58c607dd",
   "metadata": {},
   "outputs": [
    {
     "name": "stdout",
     "output_type": "stream",
     "text": [
      "[0, 1, 2, 3, 4, 5, 6, 7, 8, 9]\n"
     ]
    }
   ],
   "source": [
    "# 파이썬 퀵 정렬 ex\n",
    "array = [7,5,9,0,3,1,6,2,4,8]\n",
    "\n",
    "def quick_sort(array):\n",
    "    if len(array) <= 1:\n",
    "        return array\n",
    "    \n",
    "    pivot = array[0]\n",
    "    tail = array[1:]\n",
    "    \n",
    "    left_side = [x for x in tail if x <= pivot]\n",
    "    right_side = [x for x in tail if x > pivot]\n",
    "    \n",
    "    return quick_sort(left_side) + [pivot] + quick_sort(right_side)\n",
    "print(quick_sort(array))"
   ]
  },
  {
   "cell_type": "markdown",
   "id": "4b1c10da",
   "metadata": {},
   "source": [
    "### 계수 정렬\n",
    "- 특정한 조건이 부합할 때만 사용 가능, 하지만 매우 빠른 알고리즘\n",
    "- 조건: 데이터의 크기 범위가 제한되어 정수 형태로 표현 가능\n",
    "- 모든 범위를 담을 수 있는 크기의 리스트를 선언해야함\n",
    "- 각 인덱스의 등장 횟수를 저장하여 이를 기반으로 정렬된 리스트를 출력하는 방식"
   ]
  },
  {
   "cell_type": "code",
   "execution_count": 4,
   "id": "58eec755",
   "metadata": {},
   "outputs": [
    {
     "name": "stdout",
     "output_type": "stream",
     "text": [
      "0 0 1 1 2 2 3 4 5 5 6 7 8 9 9 "
     ]
    }
   ],
   "source": [
    "# 계수 정렬 ex\n",
    "array = [7,5,9,0,3,1,6,2,9,1,4,8,0,5,2]\n",
    "count = [0] * (max(array) + 1)\n",
    "\n",
    "for i in range(len(array)):\n",
    "    count[array[i]] += 1\n",
    "    \n",
    "for i in range(len(count)):\n",
    "    for j in range(count[i]):\n",
    "        print(i, end = ' ')\n",
    "    "
   ]
  },
  {
   "cell_type": "markdown",
   "id": "0c23a85a",
   "metadata": {},
   "source": [
    "### 파이썬의 정렬 라이브러리\n",
    "- sorted() 함수\n",
    "    - sorted(array)\n",
    "- sort() 함수\n",
    "    - array.sort()"
   ]
  },
  {
   "cell_type": "markdown",
   "id": "8e55ae26",
   "metadata": {},
   "source": [
    "### 예제 1 | 위에서 아래로\n",
    "- 수열을 입력받아 이를 내림차순으로 정리하는 프로그램을 만드시오."
   ]
  },
  {
   "cell_type": "code",
   "execution_count": 7,
   "id": "901f4c13",
   "metadata": {},
   "outputs": [
    {
     "name": "stdout",
     "output_type": "stream",
     "text": [
      "3\n",
      "15\n",
      "27\n",
      "12\n",
      "[27, 15, 12]\n"
     ]
    }
   ],
   "source": [
    "n = int(input())\n",
    "array = []\n",
    "for i in range(n):\n",
    "    num = int(input())\n",
    "    array.append(num)\n",
    "result = sorted(array, reverse=True)\n",
    "print(result)"
   ]
  },
  {
   "cell_type": "markdown",
   "id": "83c64717",
   "metadata": {},
   "source": [
    "### 예제 2 | 성적이 낮은 순서로 학생 출력하기\n",
    "- 학생의 이름과 성적이 주어질 때 성적 순으로 정렬하기"
   ]
  },
  {
   "cell_type": "code",
   "execution_count": 14,
   "id": "79b03640",
   "metadata": {},
   "outputs": [
    {
     "name": "stdout",
     "output_type": "stream",
     "text": [
      "2\n",
      "홍길동 95\n",
      "이순신 77\n",
      "이순신 홍길동 "
     ]
    }
   ],
   "source": [
    "n = int(input())\n",
    "array = []\n",
    "for i in range(n):\n",
    "    student_data = input().split()\n",
    "    array.append(student_data)\n",
    "result = sorted(array, key=lambda score: int(score[1]))\n",
    "\n",
    "for j in result:\n",
    "    print(j[0], end= ' ')"
   ]
  },
  {
   "cell_type": "markdown",
   "id": "66a43323",
   "metadata": {},
   "source": [
    "### 예제 3 | 두 배열의 원소 교체\n",
    "- N개의 원소를 갖고 있는 배열 A,B가 존재\n",
    "- 최대 K번 바꿔치기를 통해 배열 A의 모든 원소의 합이 최대가 되게 하는 방법\n"
   ]
  },
  {
   "cell_type": "code",
   "execution_count": 16,
   "id": "22308412",
   "metadata": {},
   "outputs": [
    {
     "name": "stdout",
     "output_type": "stream",
     "text": [
      "5 3\n",
      "1 2 5 4 3\n",
      "5 5 6 6 5\n",
      "26\n"
     ]
    }
   ],
   "source": [
    "n, k = map(int, input().split())\n",
    "a = list(map(int, input().split()))\n",
    "b = list(map(int, input().split()))\n",
    "\n",
    "a.sort()\n",
    "b.sort(reverse=True)\n",
    "array = []\n",
    "\n",
    "for i in range(0,k):\n",
    "    if a[i] < b[i]:\n",
    "        array.append(b[i])\n",
    "    else:\n",
    "        array.append(a[i])\n",
    "for j in range(k,n):\n",
    "    array.append(a[j])\n",
    "    \n",
    "print(sum(array))"
   ]
  },
  {
   "cell_type": "code",
   "execution_count": 17,
   "id": "d205d947",
   "metadata": {},
   "outputs": [
    {
     "name": "stdout",
     "output_type": "stream",
     "text": [
      "5 3\n",
      "1 2 5 4 3\n",
      "5 5 6 6 5\n",
      "26\n"
     ]
    }
   ],
   "source": [
    "# 더 효율적인 코드 -> 작은 순간 더 이상 비교할 필요가 없음\n",
    "n, k = map(int, input().split())\n",
    "a = list(map(int, input().split()))\n",
    "b = list(map(int, input().split()))\n",
    "\n",
    "a.sort()\n",
    "b.sort(reverse=True)\n",
    "\n",
    "for i in range(k):\n",
    "    if a[i] < b[i]:\n",
    "        a[i],b[i] = b[i],a[i]\n",
    "    else:\n",
    "        break\n",
    "print(sum(a))"
   ]
  }
 ],
 "metadata": {
  "kernelspec": {
   "display_name": "Python 3 (ipykernel)",
   "language": "python",
   "name": "python3"
  },
  "language_info": {
   "codemirror_mode": {
    "name": "ipython",
    "version": 3
   },
   "file_extension": ".py",
   "mimetype": "text/x-python",
   "name": "python",
   "nbconvert_exporter": "python",
   "pygments_lexer": "ipython3",
   "version": "3.9.7"
  }
 },
 "nbformat": 4,
 "nbformat_minor": 5
}
