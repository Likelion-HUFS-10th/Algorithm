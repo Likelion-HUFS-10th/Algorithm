{
 "cells": [
  {
   "cell_type": "markdown",
   "id": "3ace24f3",
   "metadata": {},
   "source": [
    "### 순차 탐색\n",
    "- 리스트 안에 있는 특정한 데이터를 찾기 위해 앞에서부터 데이터를 하나씩 차례대로 확인하는 방법\n",
    "- 정렬되지 않은 리스트에서 데이터를 찾아야 할 때 사용\n",
    "- 항상 데이터를 찾을 수 있다는 장점\n",
    "- 데이터의 위치에 따라 시간 복잡도가 달라짐"
   ]
  },
  {
   "cell_type": "markdown",
   "id": "f42dd8db",
   "metadata": {},
   "source": [
    "### 이진 탐색\n",
    "- 데이터가 정렬되어 있어야만 사용할 수 있는 알고리즘\n",
    "- 탐색 범위를 절반씩 좁혀가며 데이터를 탐색\n",
    "- 시작점, 끝점, 중간점 사용\n",
    "- 찾으려는 데이터와 중간점 위치에 있는 데이터를 반복적으로 비교\n",
    "- 중간점이 실수일 경우 소수점 이하는 버림 (ex. 4.5 -> 4)\n",
    "- 진행할 때마다 확인하는 원소의 개수가 절반씩 줄어들음"
   ]
  },
  {
   "cell_type": "markdown",
   "id": "813fe7d1",
   "metadata": {},
   "source": [
    "#### 이진 탐색 - 재귀함수 이용 방법"
   ]
  },
  {
   "cell_type": "code",
   "execution_count": 2,
   "id": "92d6efd3",
   "metadata": {},
   "outputs": [
    {
     "name": "stdout",
     "output_type": "stream",
     "text": [
      "10 7\n",
      "1 3 5 7 9 11 13 15 17 19\n",
      "4\n"
     ]
    }
   ],
   "source": [
    "def binary_search(array, target, start, end):\n",
    "    if start > end:\n",
    "        return None\n",
    "    mid = (start + end) // 2\n",
    "    if array[mid] == target:\n",
    "        return mid\n",
    "    elif array[mid] > target:\n",
    "        return binary_search(array, target, start, mid-1)\n",
    "    else:\n",
    "        return binary_search(array, target, mid+1, end)\n",
    "\n",
    "n, target = list(map(int, input().split()))\n",
    "array = list(map(int, input().split()))\n",
    "\n",
    "result = binary_search(array, target, 0, n-1)\n",
    "if result == None:\n",
    "    print(\"원소가 존재하지 않습니다.\")\n",
    "else:\n",
    "    print(result+1)"
   ]
  },
  {
   "cell_type": "markdown",
   "id": "ab8e417c",
   "metadata": {},
   "source": [
    "#### 이진 탐색 - 반복문 이용 방법"
   ]
  },
  {
   "cell_type": "code",
   "execution_count": 3,
   "id": "9e0631bf",
   "metadata": {},
   "outputs": [
    {
     "name": "stdout",
     "output_type": "stream",
     "text": [
      "10 7\n",
      "1 3 5 7 9 11 13 15 17 19\n",
      "4\n"
     ]
    }
   ],
   "source": [
    "def binary_search(array, target, start, end):\n",
    "    while start <= end:\n",
    "        mid = (start + end) // 2\n",
    "        if array[mid] == target:\n",
    "            return mid\n",
    "        elif array[mid] > target:\n",
    "            end = mid - 1\n",
    "        else:\n",
    "            start = mid + 1\n",
    "    return None\n",
    "n, target = list(map(int, input().split()))\n",
    "array = list(map(int, input().split()))\n",
    "\n",
    "result = binary_search(array, target, 0, n-1)\n",
    "if result == None:\n",
    "    print(\"원소가 존재하지 않습니다.\")\n",
    "else:\n",
    "    print(result+1)"
   ]
  },
  {
   "cell_type": "markdown",
   "id": "62550cc0",
   "metadata": {},
   "source": [
    "### 예제1 | 부품 찾기\n",
    "- N개의 부품이 존재, 각 고유 번호 있음\n",
    "- M개 종류의 부품을 대량 구매 -> 부품이 있는지 확인"
   ]
  },
  {
   "cell_type": "code",
   "execution_count": 4,
   "id": "f8b56f20",
   "metadata": {},
   "outputs": [
    {
     "name": "stdout",
     "output_type": "stream",
     "text": [
      "5\n",
      "8 3 7 9 2\n",
      "3\n",
      "5 7 9\n",
      "no yes yes "
     ]
    }
   ],
   "source": [
    "def binary_serach(array, target, start, end):\n",
    "    if start > end:\n",
    "        return None\n",
    "    mid = (start + end) // 2\n",
    "    if array[mid] == target:\n",
    "        return mid\n",
    "    elif array[mid] > target:\n",
    "        return binary_search(array, target, start, mid-1)\n",
    "    else:\n",
    "        return binary_search(array, target, mid+1, end)\n",
    "    \n",
    "n = int(input())\n",
    "stock = list(map(int, input().split()))\n",
    "stock = sorted(stock)\n",
    "m = int(input())\n",
    "order = list(map(int, input().split()))\n",
    "\n",
    "for i in order:\n",
    "    if binary_search(stock, i, 0, n-1) == None:\n",
    "        print('no', end = ' ')\n",
    "    else:\n",
    "        print(\"yes\", end = ' ')"
   ]
  },
  {
   "cell_type": "markdown",
   "id": "c197d2c5",
   "metadata": {},
   "source": [
    "### 예제 2 | 떡볶이 떡 만들기\n",
    "- 떡의 길이는 일정하지 않고, 한 봉지 안에 들어가는 떡의 총 길이는 절단기로 맞춰서 맞춰줌\n",
    "- 절단기의 높이를 지정 -> 높이보다 긴 떡은 윗부분이 잘림\n",
    "- 손님이 요청한 총 길이가 m일 때 절단기 높이의 최대값 구하기"
   ]
  },
  {
   "cell_type": "code",
   "execution_count": 15,
   "id": "6102c633",
   "metadata": {},
   "outputs": [
    {
     "name": "stdout",
     "output_type": "stream",
     "text": [
      "4 6\n",
      "19 15 10 17\n",
      "15\n"
     ]
    }
   ],
   "source": [
    "n, m = map(int, input().split())\n",
    "arr = list(map(int, input().split()))\n",
    "\n",
    "start = 0\n",
    "end = max(array)\n",
    "\n",
    "result = 0\n",
    "\n",
    "while start <= end:\n",
    "    total = 0\n",
    "    mid = (start+end)//2\n",
    "    for i in array:\n",
    "        if i >= mid:\n",
    "            total += (i-mid)\n",
    "    if total >= m:\n",
    "        result = mid\n",
    "        start = mid + 1\n",
    "    else:\n",
    "        end = mid - 1\n",
    "        \n",
    "print(result)"
   ]
  }
 ],
 "metadata": {
  "kernelspec": {
   "display_name": "Python 3 (ipykernel)",
   "language": "python",
   "name": "python3"
  },
  "language_info": {
   "codemirror_mode": {
    "name": "ipython",
    "version": 3
   },
   "file_extension": ".py",
   "mimetype": "text/x-python",
   "name": "python",
   "nbconvert_exporter": "python",
   "pygments_lexer": "ipython3",
   "version": "3.9.7"
  }
 },
 "nbformat": 4,
 "nbformat_minor": 5
}
