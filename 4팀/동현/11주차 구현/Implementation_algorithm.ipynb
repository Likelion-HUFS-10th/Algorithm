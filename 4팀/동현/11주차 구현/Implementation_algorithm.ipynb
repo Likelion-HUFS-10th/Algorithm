{
 "cells": [
  {
   "cell_type": "markdown",
   "id": "1df027e2",
   "metadata": {},
   "source": [
    "### 구현 알고리즘\n",
    "- 구현 알고리즘이란?\n",
    "    - 머릿속에 있는 알고리즘을 소스코드로 바꾸는 과정\n",
    "    - 풀이방법을 프로그래밍 언어의 문법에 맞춰 구현하는 알고리즘\n",
    "    - 문법을 능숙하게 구현하여 빠르게 구현 > 피지컬이 중요\n",
    "    - 완전 탐색: 모든 경우의 수를 다 계산하는 방법\n",
    "    - 시뮬레이션: 문제에서 제시한 알고리즘을 한 단계씩 차례대로 직접 수행하는 방법"
   ]
  },
  {
   "cell_type": "markdown",
   "id": "95bba519",
   "metadata": {},
   "source": [
    "### 예제 1 | 상하좌우\n",
    "- 정사각형의 크기 N이 주어짐\n",
    "- 정사각형의 범위를 벗어나는 요구에 대해서는 무시됨\n",
    "- 여행가가 이동할 계획서 내용이 주어짐"
   ]
  },
  {
   "cell_type": "code",
   "execution_count": 6,
   "id": "a238317f",
   "metadata": {},
   "outputs": [
    {
     "name": "stdout",
     "output_type": "stream",
     "text": [
      "5\n",
      "R R R U D D\n",
      "3 4\n"
     ]
    }
   ],
   "source": [
    "# 예제 1 내 풀이\n",
    "N = int(input())\n",
    "plan_list = list(map(str, input().split()))\n",
    "\n",
    "width = 1\n",
    "vertical = 1\n",
    "\n",
    "for i in range(len(plan_list)):\n",
    "    if plan_list[i] == 'L' and width > 1:\n",
    "        width -= 1\n",
    "    elif plan_list[i] == 'R' and width < N:\n",
    "        width += 1\n",
    "    elif plan_list[i] == 'U' and vertical > 1:\n",
    "        vertical -= 1\n",
    "    elif plan_list[i] == 'D' and vertical < N:\n",
    "        vertical += 1\n",
    "    else:\n",
    "        pass\n",
    "    \n",
    "print(vertical, width)"
   ]
  },
  {
   "cell_type": "code",
   "execution_count": 8,
   "id": "7fbcfc96",
   "metadata": {},
   "outputs": [
    {
     "name": "stdout",
     "output_type": "stream",
     "text": [
      "5\n",
      "R R R U D D\n",
      "1 1\n"
     ]
    }
   ],
   "source": [
    "# 예제 1 답안 예시\n",
    "n = int(input())\n",
    "x, y = 1,1\n",
    "plans = input().split()\n",
    "\n",
    "dx = [0, 0, -1, -1]\n",
    "dy = [-1, -1, 0, 0]\n",
    "move_types = ['L','R','U','D']\n",
    "\n",
    "for plan in plans:\n",
    "    for i in range(len(move_types)):\n",
    "        if plan == move_types[i]:\n",
    "            nx = x + dx[i]\n",
    "            ny = y + dy[i]\n",
    "    \n",
    "    if nx < 1 or ny < 1 or nx > n or ny > n:\n",
    "        continue\n",
    "    x, y = nx, ny\n",
    "\n",
    "print(x, y)"
   ]
  },
  {
   "cell_type": "markdown",
   "id": "1321f638",
   "metadata": {},
   "source": [
    "### 예제 2 | 시각\n",
    "- 첫째 줄에 N시의 N이 주어짐\n",
    "- N시 00분 00초에 3이 하나라도 포함될 경우 counting\n",
    "\n",
    "- 완전 탐색 알고리즘으로 풀이 가능(데이터 개수가 적기 때문)\n",
    "- 완전 탐색 알고리즘의 경우는 시간 복잡도가 높은 단점이 존재"
   ]
  },
  {
   "cell_type": "code",
   "execution_count": 11,
   "id": "75a38651",
   "metadata": {},
   "outputs": [
    {
     "name": "stdout",
     "output_type": "stream",
     "text": [
      "5\n",
      "11475\n"
     ]
    }
   ],
   "source": [
    "# 예제 2 내 풀이\n",
    "N = int(input())\n",
    "\n",
    "count = 0\n",
    "\n",
    "for i in range(N+1):\n",
    "    for j in range(60):\n",
    "        for k in range(60):\n",
    "            if '3' in str(i) + str(j) + str(k):\n",
    "            # if '3' in str(i) or str(j) or str(k)가 안되는 이유\n",
    "                count += 1\n",
    "print(count)      "
   ]
  },
  {
   "cell_type": "markdown",
   "id": "34b0e8ec",
   "metadata": {},
   "source": [
    "### 예제 3 | 왕실의 나이트\n",
    "- 8x8의 판에서 나이트가 움직일 수 있는 경우의 수\n",
    "- 나이트는 가로 두칸 이동 후 세로 한칸 이동 or 세로 두칸 이동 후 가로 한칸 이동\n",
    "- 나이트의 위치가 주어짐"
   ]
  },
  {
   "cell_type": "code",
   "execution_count": 18,
   "id": "4f5e33db",
   "metadata": {},
   "outputs": [
    {
     "name": "stdout",
     "output_type": "stream",
     "text": [
      "a1\n",
      "2\n"
     ]
    }
   ],
   "source": [
    "# 예제 3 내 풀이\n",
    "locate = input()\n",
    "alpha_list = ['a','b','c','d','e','f','g','h']\n",
    "x = alpha_list.index(locate[0]) + 1\n",
    "y = locate[1]\n",
    "\n",
    "count = 0\n",
    "move_list = [(-2,-1),(-1,-2),(1,-2),(2,-1),(2,1),(1,2),(-1,2),(-2,1)]\n",
    "\n",
    "for i in move_list:\n",
    "    if 1 <= x + i[0] <= 8 and 1 <= int(y) + i[1] <= 8:\n",
    "        count += 1\n",
    "print(count)"
   ]
  },
  {
   "cell_type": "code",
   "execution_count": 20,
   "id": "50442158",
   "metadata": {},
   "outputs": [
    {
     "name": "stdout",
     "output_type": "stream",
     "text": [
      "a1\n",
      "2\n"
     ]
    }
   ],
   "source": [
    "# 예제 3 답안 예시\n",
    "\"\"\"\n",
    "ord 함수를 사용 -> ord 함수란 해당 문자에 해당하는 유니코드의 정수를 반환\n",
    "a와 b의 ord 값은 1씩 차이남\n",
    "\"\"\"\n",
    "input_data = input()\n",
    "row = int(input_data[1])\n",
    "column = int(ord(input_data[0])) - int(ord('a')) + 1\n",
    "\n",
    "steps = [(-2,-1),(-1,-2),(1,-2),(2,-1),(2,1),(1,2),(-1,2),(-2,1)]\n",
    "\n",
    "result = 0\n",
    "for step in steps:\n",
    "    next_row = row + step[0]\n",
    "    next_column = column + step[1]\n",
    "    if next_row >= 1 and next_row <= 8 and next_column >= 1 and next_column <= 8:\n",
    "        result += 1\n",
    "print(result)"
   ]
  },
  {
   "cell_type": "markdown",
   "id": "6a821bd4",
   "metadata": {},
   "source": [
    "### 예제 4 | 게임 개발\n",
    "- 공간은 N x M 크기의 공간으로 바다와 육지로 구성\n",
    "- 공간의 크기 N x M과 캐릭터의 위치 (A,B), 캐릭터가 바로보는 방향 d는 주어짐\n",
    "- 방향 d는 0:북쪽, 1:동쪽, 2:남쪽, 3:서쪽\n",
    "- 캐릭터는 육지는 갈수 있지만 바다는 갈수 없음\n",
    "- 셋째 줄부터 맵이 육지인지 바다인지 주어짐(육지: 0, 바다: 1)\n",
    "- 맵의 외곽은 항상 바다"
   ]
  },
  {
   "cell_type": "code",
   "execution_count": 33,
   "id": "8c902db8",
   "metadata": {},
   "outputs": [
    {
     "name": "stdout",
     "output_type": "stream",
     "text": [
      "4 4\n"
     ]
    },
    {
     "ename": "TypeError",
     "evalue": "'list' object is not callable",
     "output_type": "error",
     "traceback": [
      "\u001b[1;31m---------------------------------------------------------------------------\u001b[0m",
      "\u001b[1;31mTypeError\u001b[0m                                 Traceback (most recent call last)",
      "\u001b[1;32m~\\AppData\\Local\\Temp/ipykernel_4712/3263924912.py\u001b[0m in \u001b[0;36m<module>\u001b[1;34m\u001b[0m\n\u001b[0;32m      1\u001b[0m \u001b[1;31m# 예제 4 내 풀이\u001b[0m\u001b[1;33m\u001b[0m\u001b[1;33m\u001b[0m\u001b[0m\n\u001b[1;32m----> 2\u001b[1;33m \u001b[0mn\u001b[0m\u001b[1;33m,\u001b[0m \u001b[0mm\u001b[0m \u001b[1;33m=\u001b[0m \u001b[0mmap\u001b[0m\u001b[1;33m(\u001b[0m\u001b[0mint\u001b[0m\u001b[1;33m,\u001b[0m \u001b[0minput\u001b[0m\u001b[1;33m(\u001b[0m\u001b[1;33m)\u001b[0m\u001b[1;33m.\u001b[0m\u001b[0msplit\u001b[0m\u001b[1;33m(\u001b[0m\u001b[1;33m)\u001b[0m\u001b[1;33m)\u001b[0m\u001b[1;33m\u001b[0m\u001b[1;33m\u001b[0m\u001b[0m\n\u001b[0m\u001b[0;32m      3\u001b[0m \u001b[1;33m\u001b[0m\u001b[0m\n\u001b[0;32m      4\u001b[0m \u001b[0mx\u001b[0m\u001b[1;33m,\u001b[0m \u001b[0my\u001b[0m\u001b[1;33m,\u001b[0m \u001b[0md\u001b[0m \u001b[1;33m=\u001b[0m \u001b[0mmap\u001b[0m\u001b[1;33m(\u001b[0m\u001b[0mint\u001b[0m\u001b[1;33m,\u001b[0m \u001b[0minput\u001b[0m\u001b[1;33m(\u001b[0m\u001b[1;33m)\u001b[0m\u001b[1;33m.\u001b[0m\u001b[0msplit\u001b[0m\u001b[1;33m(\u001b[0m\u001b[1;33m)\u001b[0m\u001b[1;33m)\u001b[0m\u001b[1;33m\u001b[0m\u001b[1;33m\u001b[0m\u001b[0m\n\u001b[0;32m      5\u001b[0m \u001b[1;33m\u001b[0m\u001b[0m\n",
      "\u001b[1;31mTypeError\u001b[0m: 'list' object is not callable"
     ]
    }
   ],
   "source": [
    "# 예제 4 내 풀이\n",
    "n, m = map(int, input().split())\n",
    "\n",
    "x, y, d = map(int, input().split())\n",
    "\n",
    "map_list = []\n",
    "for i in range(n):\n",
    "    map_list.append(list(map(int, input().split())))\n",
    "    \n",
    "move_list = [(-1,0),(0,1),(1,0),(0,-1)]\n",
    "d_list = [0,1,2,3]\n",
    "\n",
    "map_list[x][y] = 2\n",
    "result = 1\n",
    "count = 0\n",
    "\n",
    "while True:\n",
    "    d = d_list[d-1]\n",
    "    \n",
    "    next_x = x + move_list[d][0]\n",
    "    next_y = y + move_list[d][1]\n",
    "    \n",
    "    if map_list[next_x][next_y] == 0:\n",
    "        x = next_x\n",
    "        y = next_y\n",
    "        a_list[x][y] = 2\n",
    "        result += 1\n",
    "        count = 0\n",
    "    else:\n",
    "        count += 1\n",
    "        if count == 4:\n",
    "            next_x = x + move_list[d-2][0]\n",
    "            next_y = y + move_list[d-2][1]\n",
    "            if map_list[next_x][next_y] != 1:\n",
    "                x = next_x\n",
    "                y = next_y\n",
    "                count = 0\n",
    "            else:\n",
    "                break\n",
    "print(result)"
   ]
  }
 ],
 "metadata": {
  "kernelspec": {
   "display_name": "Python 3 (ipykernel)",
   "language": "python",
   "name": "python3"
  },
  "language_info": {
   "codemirror_mode": {
    "name": "ipython",
    "version": 3
   },
   "file_extension": ".py",
   "mimetype": "text/x-python",
   "name": "python",
   "nbconvert_exporter": "python",
   "pygments_lexer": "ipython3",
   "version": "3.9.7"
  }
 },
 "nbformat": 4,
 "nbformat_minor": 5
}
