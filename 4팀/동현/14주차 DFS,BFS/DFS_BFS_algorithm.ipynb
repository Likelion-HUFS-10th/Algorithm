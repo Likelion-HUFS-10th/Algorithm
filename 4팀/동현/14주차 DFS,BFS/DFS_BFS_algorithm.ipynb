{
 "cells": [
  {
   "cell_type": "markdown",
   "id": "f4228106",
   "metadata": {},
   "source": [
    "### DFS/BFS 알고리즘\n",
    "- 탐색이란\n",
    "    - 많은 양의 데이터 중에서 원하는 데이터를 찾는 과정\n",
    "- DFS/BFS 알고리즘 \n",
    "    - 대표적인 탐색 알고리즘\n",
    "    - 스택, 큐, 재귀함수에 대한 이해가 먼저 필요함"
   ]
  },
  {
   "cell_type": "markdown",
   "id": "94722dae",
   "metadata": {},
   "source": [
    "### 스택\n",
    "- 박스 쌓기에 비유 가능\n",
    "    - 박스는 아래에서부터 위로 차곡차곡 쌓는데 빼는거는 위에서부터만 가능\n",
    "- 선입후출구조 or 후입선출구조\n",
    "- append 함수와 pop 함수로 구현 가능"
   ]
  },
  {
   "cell_type": "markdown",
   "id": "8c1b1c9e",
   "metadata": {},
   "source": [
    "### 큐\n",
    "- 대기줄에 비유 가능\n",
    "    - 줄은 먼저온 사람이 먼저 들어가는 구조\n",
    "- 선입선출 구조\n",
    "- 파이썬에서 큐를 구현할 때는 collections 모듈에서 제공하는 deque 자료구조 활용\n",
    "    - from collections import deque\n",
    "- deque는 데이터를 넣고 빼는 속도가 리스트 자료형에 비해 효율적"
   ]
  },
  {
   "cell_type": "markdown",
   "id": "30e68c0d",
   "metadata": {},
   "source": [
    "### 재귀함수\n",
    "- 자기 자신을 다시 호출하는 함수\n",
    "- 재귀의 최대 깊이가 존재하기 때문에 재귀의 한계 존재\n",
    "- 재귀 함수는 종료조건이 반드시 필요함\n",
    "- 연속해서 호출되는 함수는 메인 메모리의 스택 공간에 적재 -> 스택 자료구조와 동일\n",
    "- 반복문보다 코드를 더욱 간결하게 표현 가능"
   ]
  },
  {
   "cell_type": "code",
   "execution_count": 1,
   "id": "f8175507",
   "metadata": {},
   "outputs": [
    {
     "name": "stdout",
     "output_type": "stream",
     "text": [
      "1 번째 재귀함수에서 2 번째 재귀함수를 호출합니다.\n",
      "2 번째 재귀함수에서 3 번째 재귀함수를 호출합니다.\n",
      "3 번째 재귀함수에서 4 번째 재귀함수를 호출합니다.\n",
      "4 번째 재귀함수에서 5 번째 재귀함수를 호출합니다.\n",
      "5 번째 재귀함수에서 6 번째 재귀함수를 호출합니다.\n",
      "6 번째 재귀함수에서 7 번째 재귀함수를 호출합니다.\n",
      "7 번째 재귀함수에서 8 번째 재귀함수를 호출합니다.\n",
      "8 번째 재귀함수에서 9 번째 재귀함수를 호출합니다.\n",
      "9 번째 재귀함수에서 10 번째 재귀함수를 호출합니다.\n",
      "9 번째 재귀함수를 종료합니다.\n",
      "8 번째 재귀함수를 종료합니다.\n",
      "7 번째 재귀함수를 종료합니다.\n",
      "6 번째 재귀함수를 종료합니다.\n",
      "5 번째 재귀함수를 종료합니다.\n",
      "4 번째 재귀함수를 종료합니다.\n",
      "3 번째 재귀함수를 종료합니다.\n",
      "2 번째 재귀함수를 종료합니다.\n",
      "1 번째 재귀함수를 종료합니다.\n"
     ]
    }
   ],
   "source": [
    "# 재귀함수에 종료조건을 걸어주는 방법\n",
    "def recrusive_function(i):\n",
    "    if i == 10:\n",
    "        return\n",
    "    print(i, '번째 재귀함수에서', i+1, '번째 재귀함수를 호출합니다.')\n",
    "    recrusive_function(i+1)\n",
    "    print(i, '번째 재귀함수를 종료합니다.')\n",
    "\n",
    "recrusive_function(1)"
   ]
  },
  {
   "cell_type": "markdown",
   "id": "92ed66c9",
   "metadata": {},
   "source": [
    "### DFS\n",
    "- Depth-First Search, 깊이 우선 탐색\n",
    "- 특정 경로를 탐색하다가 특정한 상황에서 최대한 깊숙이 들어가서 노드 방문후 다시 돌아가 다른 경로를 탐색\n",
    "- 그래프에서 깊은 부분을 우선적으로 탐색하는 알고리즘\n",
    "\n",
    "- 인접 행렬(adjacency matrix): 2차원 배열로 그래프의 연결 관계를 표현하는 방식\n",
    "    - 2차원 리스트로 표현 가능\n",
    "    - 연결되어 있지 않은 경우는 무한 비용으로 작성\n",
    "    - 모든 관계를 저장 -> 노드 개수가 많을수록 메모리 낭비가 심함\n",
    "    \n",
    "- 인접 리스트(adjacency list): 리스트로 그래프의 연결 관계를 표현하는 방식\n",
    "    - 2차원 리스트로 표현 가능\n",
    "    - 연결된 정보만을 저장 -> 메모리 효율적 사용이 가능\n",
    "    - 연결된 데이터를 하나씩 확인 -> 노드가 연결되어 있는지에 대한 정보를 얻는 속도가 느림\n",
    "    \n",
    "- DFS 알고리즘 동작 과정\n",
    "    - 1. 탐색 시작 노드를 스택에 삽입하고 방문 처리를 함\n",
    "    - 2. 스택의 최상단 노드에 방문하지 않은 인접 노드가 있으면 그 인접 노드를 스택에 넣고 방문 처리를 함, 방문하지 않은 인접 노드가 없으면 스택에서 최상단 노드를 꺼냄\n",
    "    - 3. 2번의 과정을 더 이상 수행할 수 없을 때까지 반복 함"
   ]
  },
  {
   "cell_type": "code",
   "execution_count": 2,
   "id": "69cff97a",
   "metadata": {},
   "outputs": [
    {
     "name": "stdout",
     "output_type": "stream",
     "text": [
      "[[0, 7, 5], [7, 0, 99999999], [5, 99999999, 0]]\n"
     ]
    }
   ],
   "source": [
    "# 인접 행렬 예시\n",
    "\n",
    "INF = 99999999\n",
    "\n",
    "graph = [\n",
    "    [0,7,5],\n",
    "    [7,0,INF],\n",
    "    [5,INF,0]\n",
    "]\n",
    "\n",
    "print(graph)"
   ]
  },
  {
   "cell_type": "code",
   "execution_count": 3,
   "id": "68d83988",
   "metadata": {},
   "outputs": [
    {
     "name": "stdout",
     "output_type": "stream",
     "text": [
      "[[(1, 7), (2, 5)], [(0, 7)], [(0, 5)]]\n"
     ]
    }
   ],
   "source": [
    "# 인접 리스트 예시\n",
    "\n",
    "graph = [[] for _ in range(3)]\n",
    "\n",
    "graph[0].append((1,7))\n",
    "graph[0].append((2,5))\n",
    "\n",
    "graph[1].append((0,7))\n",
    "\n",
    "graph[2].append((0,5))\n",
    "\n",
    "print(graph)"
   ]
  },
  {
   "cell_type": "code",
   "execution_count": 4,
   "id": "ac597d55",
   "metadata": {},
   "outputs": [
    {
     "name": "stdout",
     "output_type": "stream",
     "text": [
      "1 2 7 6 8 3 4 5 "
     ]
    }
   ],
   "source": [
    "# DFS 예제\n",
    "\n",
    "def dfs(graph, v, visited):\n",
    "    visited[v] = True\n",
    "    print(v, end=' ')\n",
    "    for i in graph[v]:\n",
    "        if not visited[i]:\n",
    "            dfs(graph, i, visited)\n",
    "            \n",
    "graph = [\n",
    "    [],\n",
    "    [2,3,8],\n",
    "    [1,7],\n",
    "    [1,4,5],\n",
    "    [3,5],\n",
    "    [3,4],\n",
    "    [7],\n",
    "    [2,6,8],\n",
    "    [1,7]\n",
    "]\n",
    "\n",
    "visited = [False] * 9\n",
    "\n",
    "dfs(graph, 1 , visited)"
   ]
  },
  {
   "cell_type": "markdown",
   "id": "17363d24",
   "metadata": {},
   "source": [
    "### BFS\n",
    "- Breadth First Search, 너비 우선 탐색\n",
    "- 가까운 노드부터 탐색하는 알고리즘\n",
    "- 선입선출 방식인 큐 자료구조 이용 -> 간단함\n",
    "    - 인접한 노드를 반복적으로 큐에 넣어주면 자연스럽게 먼저 들어온 것이 먼저 나감\n",
    "- BFS 알고리즘 동작 방식\n",
    "    - 1. 탐색 시작 노드를 큐에 삽입하고 방문 처리를 함\n",
    "    - 2. 큐에서 노드를 꺼내 해당 노드의 인접 노드 중에서 방문하지 않은 노드를 모두 큐에 삽입하고 방문 처리를 함\n",
    "    - 3. 2번의 과정을 더 이상 수행할 수 없을 때까지 반복\n",
    "- 실제 수행 시간은 DFS보다 좋음 "
   ]
  },
  {
   "cell_type": "code",
   "execution_count": 5,
   "id": "10f9713f",
   "metadata": {},
   "outputs": [
    {
     "name": "stdout",
     "output_type": "stream",
     "text": [
      "1 2 3 8 7 4 5 6 "
     ]
    }
   ],
   "source": [
    "# BFS 예제\n",
    "from collections import deque\n",
    "\n",
    "def bfs(graph, start, visited):\n",
    "    queue = deque([start])\n",
    "    visited[start] = True\n",
    "    while queue:\n",
    "        v = queue.popleft()\n",
    "        print(v, end=' ')\n",
    "        for i in graph[v]:\n",
    "            if not visited[i]:\n",
    "                queue.append(i)\n",
    "                visited[i]  = True\n",
    "\n",
    "graph = [\n",
    "    [],\n",
    "    [2,3,8],\n",
    "    [1,7],\n",
    "    [1,4,5],\n",
    "    [3,5],\n",
    "    [3,4],\n",
    "    [7],\n",
    "    [2,6,8],\n",
    "    [1,7]\n",
    "    \n",
    "]\n",
    "\n",
    "visited = [False] * 9\n",
    "bfs(graph, 1, visited)"
   ]
  },
  {
   "cell_type": "markdown",
   "id": "9ced3784",
   "metadata": {},
   "source": [
    "### 예제 1 | 음료수 얼려 먹기\n",
    "- N x M 크기의 얼음 틀이 존재\n",
    "- 구멍이 뚫려 있는 부분은 0, 칸막이가 존재하는 부분은 1\n",
    "- 얼음 틀의 모양이 주어졌을 때 생성되는 아이스크림의 개수를 구하시오."
   ]
  },
  {
   "cell_type": "code",
   "execution_count": 1,
   "id": "202286ec",
   "metadata": {},
   "outputs": [
    {
     "name": "stdout",
     "output_type": "stream",
     "text": [
      "4 5\n",
      "00110\n",
      "00011\n",
      "11111\n",
      "00000\n",
      "3\n"
     ]
    }
   ],
   "source": [
    "n, m = map(int, input().split())\n",
    "mold = []\n",
    "for i in range(n):\n",
    "    mold.append(list(map(int, input())))\n",
    "\n",
    "def count_ice(x,y):\n",
    "    if x < 0 or x >= n or y < 0 or y >= m:\n",
    "        return False\n",
    "    \n",
    "    if mold[x][y] == 0:\n",
    "        mold[x][y] = 1\n",
    "        count_ice(x-1,y)\n",
    "        count_ice(x,y-1)\n",
    "        count_ice(x+1,y)\n",
    "        count_ice(x,y+1)\n",
    "        return True\n",
    "    return False\n",
    "\n",
    "result = 0\n",
    "for i in range(n):\n",
    "    for j in range(m):\n",
    "        if count_ice(i,j) == True:\n",
    "            result += 1\n",
    "print(result)"
   ]
  },
  {
   "cell_type": "markdown",
   "id": "7a8fb857",
   "metadata": {},
   "source": [
    "### 예제2 | 미로 탈출\n",
    "- N x M 크기의 직사각형 형태의 미로에 갇혀 있음\n",
    "- 현재 위치 (1,1)이고 출구는 (N,M)\n",
    "- 괴물이 있는 부분은 0, 괴물이 없는 부분은 1\n",
    "- 탈출하기 위해 움직여야 하는 최소 칸의 개수 구하기"
   ]
  },
  {
   "cell_type": "code",
   "execution_count": 4,
   "id": "13071387",
   "metadata": {},
   "outputs": [
    {
     "name": "stdout",
     "output_type": "stream",
     "text": [
      "5 6\n",
      "101010\n",
      "111111\n",
      "000001\n",
      "111111\n",
      "111111\n",
      "10\n"
     ]
    }
   ],
   "source": [
    "from collections import deque\n",
    "n, m = map(int, input().split())\n",
    "maze = []\n",
    "for i in range(n):\n",
    "    maze.append(list(map(int, input())))\n",
    "    \n",
    "dx = [-1,1,0,0]\n",
    "dy = [0,0,-1,1]\n",
    "\n",
    "def find_route(x,y):\n",
    "    queue = deque()\n",
    "    queue.append((x,y))\n",
    "    while queue:\n",
    "        x, y = queue.popleft()\n",
    "        for i in range(4): # 4방향이기 때문\n",
    "            nx = x + dx[i]\n",
    "            ny = y + dy[i]\n",
    "            if nx < 0 or ny < 0 or nx >= n or ny >= m:\n",
    "                continue\n",
    "            if maze[nx][ny] == 0:\n",
    "                continue\n",
    "            if maze[nx][ny] == 1:\n",
    "                maze[nx][ny] = maze[x][y] + 1\n",
    "                queue.append((nx,ny))\n",
    "    return maze[n-1][m-1]\n",
    "\n",
    "print(find_route(0,0))"
   ]
  }
 ],
 "metadata": {
  "kernelspec": {
   "display_name": "Python 3 (ipykernel)",
   "language": "python",
   "name": "python3"
  },
  "language_info": {
   "codemirror_mode": {
    "name": "ipython",
    "version": 3
   },
   "file_extension": ".py",
   "mimetype": "text/x-python",
   "name": "python",
   "nbconvert_exporter": "python",
   "pygments_lexer": "ipython3",
   "version": "3.9.7"
  }
 },
 "nbformat": 4,
 "nbformat_minor": 5
}
