{
 "cells": [
  {
   "cell_type": "markdown",
   "id": "4c202186",
   "metadata": {},
   "source": [
    "### 그리디 알고리즘\n",
    "- 그리디 알고리즘이란?\n",
    "    - 탐욕적으로 문제를 푸는 알고리즘 > 현재 상황에서 지금 당장 좋은 것만을 고르는 방법\n",
    "    - 현재 상황이 나중에 미칠 영향에 대해서는 고려x \n",
    "    - 유형이 매우 다양하여 암기x -> 다양한 유형의 문제를 풀어봐야함\n",
    "    - 해당 문제에 대한 아이디어를 떠올리는 것이 중요\n",
    "    - 정렬 알고리즘과 짝을 이뤄 많이 출제\n",
    "    - 해당 접근법이 맞는지 의심해봐야함"
   ]
  },
  {
   "cell_type": "markdown",
   "id": "ed77b43b",
   "metadata": {},
   "source": [
    "### 예제 1 | 거스름돈 문제\n",
    "- 당신은 음식점의 계산을 도와주는 점원이다. 카운터에는 거스름돈으로 사용할 500원, 100원, 50원, 10원짜리 동전이 무한히 존재한다고 가정한다. 손님에게 거슬러 줘야 할 돈이 N원일 때 거슬러 줘야 할 동전의 최소 개수를 구하라. 단, 거슬러 줘야 할 돈 N은 항상 10의 배수이다."
   ]
  },
  {
   "cell_type": "code",
   "execution_count": 16,
   "id": "d180f186",
   "metadata": {},
   "outputs": [
    {
     "name": "stdout",
     "output_type": "stream",
     "text": [
      "1260\n",
      "500사용\n",
      "500사용\n",
      "100사용\n",
      "100사용\n",
      "50사용\n",
      "10사용\n",
      "6\n"
     ]
    }
   ],
   "source": [
    "# 예제 1 내 풀이\n",
    "\"\"\"\n",
    "동전을 최소한으로 사용하기 위해서는 가능한 큰 액수의 동전을 많이 사용해야함\n",
    "현재 상황에서 가장 좋은 것 = 큰 액수의 동전을 사용하는 것\n",
    "\"\"\"\n",
    "N = int(input())\n",
    "\n",
    "coin_num = 0\n",
    "\n",
    "while True:\n",
    "    if N >= 500:\n",
    "        coin_num += 1\n",
    "        N -= 500\n",
    "        print('500사용')\n",
    "    elif 500 > N >= 100:\n",
    "        coin_num += 1\n",
    "        N -= 100\n",
    "        print('100사용')\n",
    "    elif 100 > N >= 50:\n",
    "        coin_num += 1\n",
    "        N -= 50\n",
    "        print('50사용')\n",
    "    elif 50 > N > 0:\n",
    "        coin_num += 1\n",
    "        N -= 10\n",
    "        print('10사용')\n",
    "    else:\n",
    "        break\n",
    "\n",
    "print(coin_num)"
   ]
  },
  {
   "cell_type": "code",
   "execution_count": 18,
   "id": "bce768ae",
   "metadata": {
    "scrolled": true
   },
   "outputs": [
    {
     "name": "stdout",
     "output_type": "stream",
     "text": [
      "1260\n",
      "6\n"
     ]
    }
   ],
   "source": [
    "# 답안 예시\n",
    "\"\"\"\n",
    "coin list를 만들어 coin의 금액 변화시 코드 변화가 쉬움\n",
    "조건문을 여러개 만들 필요가 없음\n",
    "화폐의 종류만큼 반복해줌 -> 화폐의 종류가 N개일 때 시간 복잡도: O(N)\n",
    "\"\"\"\n",
    "n = int(input())\n",
    "count = 0\n",
    "\n",
    "coin_list = [500,100,50,10]\n",
    "\n",
    "for coin in coin_list:\n",
    "    count += n // coin\n",
    "    n %= coin\n",
    "    \n",
    "print(count)"
   ]
  },
  {
   "cell_type": "markdown",
   "id": "11099627",
   "metadata": {},
   "source": [
    "### 예제 2 | 큰 수의 법칙\n",
    "- 큰 수의 법칙은 다양한 수로 이루어진 배열이 있을 때, 주어진 수들을 M번 더하여 가장 큰 수를 만드는 법칙이다. 단, 배열의 특정한 인덱스에 해당하는 수가 연속하여 K번을 초과하여 더해질 수 없다. 예를 들어, M = 8, K = 3이면 8개를 더하는데 특정 수를 연속하여 3번을 초과하여 더할 수는 없다. "
   ]
  },
  {
   "cell_type": "code",
   "execution_count": 36,
   "id": "05e14f5b",
   "metadata": {},
   "outputs": [
    {
     "name": "stdout",
     "output_type": "stream",
     "text": [
      "5 8 3\n",
      "2 4 5 4 6\n",
      "46\n"
     ]
    }
   ],
   "source": [
    "# 예제 2 내 풀이\n",
    "\"\"\"\n",
    "배열에서 제일 큰 수와 두번째로 큰 수만 사용\n",
    "제일 큰수를 더해주다가 중간에 두번째로 큰 수를 더해주는 방법 사용\n",
    "k의 약수 + 1인 경우에만 두번째로 큰 수를 더해주고\n",
    "나머지는 제일 큰 수를 더해주며 접근\n",
    "'k = 1'일 경우는 예외처리가 필요\n",
    "\"\"\"\n",
    "import sys\n",
    "n,m,k = map(int, input().split())\n",
    "\n",
    "arr = list(map(int, input().split()))\n",
    "\n",
    "arr.sort(reverse = True)\n",
    "\n",
    "first = arr[0]\n",
    "second = arr[1]\n",
    "\n",
    "result = 0\n",
    "\n",
    "for i in range(1,m+1):\n",
    "    if k == 1:\n",
    "        if i % 2 == 1:\n",
    "            result += first\n",
    "        else:\n",
    "            result += second            \n",
    "    elif i % k == 1 and i != 1:\n",
    "        result += second\n",
    "    else:\n",
    "        result += first\n",
    "\n",
    "print(result)"
   ]
  },
  {
   "cell_type": "code",
   "execution_count": 38,
   "id": "b47443c5",
   "metadata": {},
   "outputs": [
    {
     "name": "stdout",
     "output_type": "stream",
     "text": [
      "5 8 3\n",
      "2 4 5 4 6\n",
      "46\n"
     ]
    }
   ],
   "source": [
    "# 답안 예시 1\n",
    "\"\"\"\n",
    "while문을 통한 '첫번째 큰 수 * k + 두번째 큰 수'의 반복을 m = 0일 때까지 반복해줌 \n",
    "m이 커지면 시간초과 문제가 발생할 수 있음\n",
    "\"\"\"\n",
    "n,m,k = map(int, input().split())\n",
    "\n",
    "arr = list(map(int, input().split()))\n",
    "\n",
    "arr.sort(reverse = True)\n",
    "\n",
    "first = arr[0]\n",
    "second = arr[1]\n",
    "\n",
    "result = 0\n",
    "\n",
    "while True:\n",
    "    for i in range(k):\n",
    "        if m == 0:\n",
    "            break\n",
    "        result += first\n",
    "        m -= 1\n",
    "    if m == 0:\n",
    "        break\n",
    "    result += second\n",
    "    m -= 1\n",
    "print(result)"
   ]
  },
  {
   "cell_type": "code",
   "execution_count": 39,
   "id": "3e851d99",
   "metadata": {},
   "outputs": [
    {
     "name": "stdout",
     "output_type": "stream",
     "text": [
      "5 8 3\n",
      "2 4 5 4 6\n",
      "46\n"
     ]
    }
   ],
   "source": [
    "# 답안 예시 2\n",
    "\"\"\"\n",
    "제일 큰 수와 두번째로 큰 수가 더해지는 횟수를 구하여 결과를 찾는 방법\n",
    "반복되는 수열 사용 -> first first first second\n",
    "시간초과 문제를 해결할 수 있음\n",
    "\"\"\"\n",
    "n,m,k = map(int, input().split())\n",
    "\n",
    "arr = list(map(int, input().split()))\n",
    "\n",
    "arr.sort(reverse = True)\n",
    "\n",
    "first = arr[0]\n",
    "second = arr[1]\n",
    "\n",
    "count = int(m / (k+1)) * k\n",
    "count += m % (k+1)\n",
    "\n",
    "result = 0\n",
    "result += count * first\n",
    "result += (m-count) * second\n",
    "\n",
    "print(result)"
   ]
  },
  {
   "cell_type": "markdown",
   "id": "e97a2581",
   "metadata": {},
   "source": [
    "### 예제 3 | 숫자 카드 게임\n",
    "- 숫자 카드 게임은 여러 개의 숫자 카드 중에서 가장 높은 숫자가 쓰인 카드 한 장을 뽑는 게임이다. \n",
    "- 카드는 N x M 형태의 행렬로 주어짐\n",
    "- 뽑고자 하는 카드가 있는 행을 선택\n",
    "- 선택된 행에서 가장 숫자가 낮은 카드를 뽑아야함\n",
    "- 행을 선택할 때 가장 숫자가 낮은 카드가 다른 행들에서 고르는 카드보다 커야함"
   ]
  },
  {
   "cell_type": "code",
   "execution_count": 44,
   "id": "3207ea25",
   "metadata": {},
   "outputs": [
    {
     "name": "stdout",
     "output_type": "stream",
     "text": [
      "2 4\n",
      "7 3 1 8\n",
      "3 3 3 4\n",
      "3\n"
     ]
    }
   ],
   "source": [
    "# 예제 3 내 풀이\n",
    "\"\"\"\n",
    "각 행별로 최솟값을 뽑아 최댓값을 계속 갱신하며 가장 큰 값을 고르는 방법\n",
    "\"\"\"\n",
    "\n",
    "n, m = map(int, input().split())\n",
    "\n",
    "arr = []\n",
    "for i in range(n):\n",
    "    arr.append(list(map(int, input().split())))\n",
    "    \n",
    "result = 0\n",
    "\n",
    "for j in arr:\n",
    "    result = max(result, min(j))\n",
    "    \n",
    "print(result)"
   ]
  },
  {
   "cell_type": "code",
   "execution_count": 45,
   "id": "ac8a42f0",
   "metadata": {},
   "outputs": [
    {
     "name": "stdout",
     "output_type": "stream",
     "text": [
      "2 4\n",
      "7 3 1 8\n",
      "3 3 3 4\n",
      "3\n"
     ]
    }
   ],
   "source": [
    "# 답안 예시\n",
    "\"\"\"\n",
    "각 리스트별 최솟값을 찾아 최댓값을 갱신해주는 방법은 동일\n",
    "반복문을 한번만 사용할 수 있음\n",
    "리스트를 모두 저장해주는 과정이 필요없음 > 삭제시 코드 간결해짐\n",
    "\"\"\"\n",
    "n, m = map(int, input().split())\n",
    "\n",
    "result = 0\n",
    "\n",
    "for i in range(n):\n",
    "    arr = list(map(int, input().split()))\n",
    "    min_value = min(arr)\n",
    "    result = max(result, min_value)\n",
    "    \n",
    "print(result)"
   ]
  },
  {
   "cell_type": "markdown",
   "id": "2a5f7feb",
   "metadata": {},
   "source": [
    "### 예제 4 | 1이 될 때까지\n",
    "- 어떠한 수 N이 1이 될 때까지 다음의 두 과정 중 하나를 반복적으로 선택하여 수행한다.\n",
    "- 1. N에서 1을 뺀다.\n",
    "- 2. N을 K로 나눈다. -> N이 K로 나누어 떨어지는 경우에만\n",
    "- N과 K가 주어질 때 N이 1이 되는 최소 횟수를 구해야한다."
   ]
  },
  {
   "cell_type": "code",
   "execution_count": 47,
   "id": "3b525e67",
   "metadata": {},
   "outputs": [
    {
     "name": "stdout",
     "output_type": "stream",
     "text": [
      "25 5\n",
      "2\n"
     ]
    }
   ],
   "source": [
    "# 예제 4 내 풀이\n",
    "\"\"\"\n",
    "최솟값을 위해서는 최대한 많이 나눠줘야함 -> 나눌수 있을때 나누기\n",
    "while문을 통해 N = 1이 될 때까지 반복\n",
    "\"\"\"\n",
    "N, K = map(int, input().split())\n",
    "\n",
    "count = 0\n",
    "\n",
    "while True:\n",
    "    if N == 1:\n",
    "        break \n",
    "        \n",
    "    if N % K == 0:\n",
    "        count += 1\n",
    "        N = N // K\n",
    "    else:\n",
    "        count += 1\n",
    "        N -= 1\n",
    "        \n",
    "print(count)"
   ]
  },
  {
   "cell_type": "code",
   "execution_count": 48,
   "id": "87362dad",
   "metadata": {},
   "outputs": [
    {
     "name": "stdout",
     "output_type": "stream",
     "text": [
      "25 5\n",
      "2\n"
     ]
    }
   ],
   "source": [
    "# 답안 예시\n",
    "\"\"\"\n",
    "최대한 많이 나누는 방법 사용은 동일\n",
    "n을 k로 나눠지는 수로 만들어가며 진행하는 방법 사용\n",
    "\"\"\"\n",
    "n, k = map(int, input().split())\n",
    "result = 0\n",
    "\n",
    "while True:\n",
    "    target = (n//k) * k\n",
    "    result += (n - target)\n",
    "    n = target\n",
    "    if n < k:\n",
    "        break\n",
    "    result += 1\n",
    "    n //= k\n",
    "\n",
    "result += (n-1)\n",
    "print(result)"
   ]
  }
 ],
 "metadata": {
  "kernelspec": {
   "display_name": "Python 3 (ipykernel)",
   "language": "python",
   "name": "python3"
  },
  "language_info": {
   "codemirror_mode": {
    "name": "ipython",
    "version": 3
   },
   "file_extension": ".py",
   "mimetype": "text/x-python",
   "name": "python",
   "nbconvert_exporter": "python",
   "pygments_lexer": "ipython3",
   "version": "3.9.7"
  }
 },
 "nbformat": 4,
 "nbformat_minor": 5
}
