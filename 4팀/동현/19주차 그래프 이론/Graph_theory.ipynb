{
 "cells": [
  {
   "cell_type": "markdown",
   "id": "2a0f1c80",
   "metadata": {},
   "source": [
    "### 그래프\n",
    "- 그래프란?\n",
    "    - 노드와 노드 사이에 연결된 간선의 정보를 가지고 있는 자료구조"
   ]
  },
  {
   "cell_type": "markdown",
   "id": "e38890a7",
   "metadata": {},
   "source": [
    "### 서로소 집합\n",
    "- 공통 원소가 없는 두 집합\n",
    "- 서로소 집합 자료구조\n",
    "    - 서로소 부분 집합들로 나누어진 원소들의 데이터를 처리하기 위한 자료구조\n",
    "    - union 연산: 2개의 원소가 포함된 집합을 하나의 집합으로 합치는 연산\n",
    "    - find 연산: 특정한 원소가 속한 집합이 어떤 집합인지 알려주는 연산\n",
    "    - 합집합과 찾기 연산으로 구성\n",
    "    - union - find 자료구조\n",
    "\n",
    "- 서로소 집합 계산 알고리즘\n",
    "    - 합집합 연산을 확인하여 서로 연결된 두 노드를 확인\n",
    "        - 두 노드의 루트 노드를 각각 찾음\n",
    "        - 찾은 노드를 부모 노드로 설정\n",
    "    - 모든 합집합 연산을 처리할 때까지 과정을 연속"
   ]
  },
  {
   "cell_type": "code",
   "execution_count": 2,
   "id": "762cc3e4",
   "metadata": {},
   "outputs": [
    {
     "name": "stdout",
     "output_type": "stream",
     "text": [
      "6 4\n",
      "1 4\n",
      "2 3\n",
      "2 4\n",
      "5 6\n",
      "각 원소가 속한 집합: 1 1 1 1 5 5 \n",
      "부모 테이블: 1 1 2 1 5 5 "
     ]
    }
   ],
   "source": [
    "# 서로소 집합 알고리즘\n",
    "\n",
    "def find_parent(parent, x):\n",
    "    # 루트가 아니라면 다시 재귀\n",
    "    if parent[x] != x:\n",
    "        return find_parent(parent, parent[x])\n",
    "    return x\n",
    "\n",
    "# 두 원소가 속한 집합 합치기\n",
    "def union_parent(parent, a, b):\n",
    "    a = find_parent(parent, a)\n",
    "    b = find_parent(parent, b)\n",
    "    if a < b:\n",
    "        parent[b] = a\n",
    "    else:\n",
    "        parent[a] = b\n",
    "        \n",
    "v,e = map(int, input().split()) # 노드의 개수, 간선의 개수\n",
    "parent = [0] * (v+1) # 부모 테이블 초기화\n",
    "\n",
    "for i in range(1,v+1):\n",
    "    parent[i] = i # 부모 테이블을 자기 자신으로\n",
    "    \n",
    "for i in range(e):\n",
    "    a,b = map(int, input().split())\n",
    "    union_parent(parent, a,b)\n",
    "    \n",
    "# 각 원소가 속한 집합 출력\n",
    "print('각 원소가 속한 집합: ',end='')\n",
    "for i in range(1,v+1):\n",
    "    print(find_parent(parent,i), end= ' ')\n",
    "\n",
    "print()\n",
    "\n",
    "# 부모 테이블 출력\n",
    "print('부모 테이블: ', end='')\n",
    "for i in range(1,v+1):\n",
    "    print(parent[i], end=' ')"
   ]
  },
  {
   "cell_type": "code",
   "execution_count": 3,
   "id": "e16988a2",
   "metadata": {},
   "outputs": [],
   "source": [
    "# find_parent 함수 시간복잡도 개선\n",
    "# 바로 부모 노드가 됨\n",
    "\n",
    "def find_parent(parent, x):\n",
    "    if parent[x] != x:\n",
    "        parent[x] = find_parent(parent, parent[x])\n",
    "    return parent[x]"
   ]
  },
  {
   "cell_type": "markdown",
   "id": "418fb786",
   "metadata": {},
   "source": [
    "### 서로소 집합을 활용한 사이클 판별\n",
    "- 무방향 그래프 내에서의 사이클 판별시 사용\n",
    "- 간선을 하나씩 확인하면서 두 노드가 포함되어 있는 집합을 합치는 과정을 반복하며 사이클 판별\n",
    "- 알고리즘\n",
    "    - 간선을 확인하며 두 노드의 루트 노드를 확인\n",
    "        - 루트 노드가 서로 다르다면 두 노드에 대해 union 연산을 수행\n",
    "        - 루트 노드가 같다면 사이클 발생\n",
    "    - 과정 반복"
   ]
  },
  {
   "cell_type": "code",
   "execution_count": 6,
   "id": "89c7bbec",
   "metadata": {},
   "outputs": [
    {
     "name": "stdout",
     "output_type": "stream",
     "text": [
      "3 3\n",
      "1 2\n",
      "1 3\n",
      "2 3\n",
      "사이클이 발생하였습니다.\n"
     ]
    }
   ],
   "source": [
    "# 서로소 집합을 활용한 사이클 판별\n",
    "def find_parent(parent, x):\n",
    "    if parent[x] != x:\n",
    "        parent[x] = find_parent(parent, parent[x])\n",
    "    return parent[x]\n",
    "\n",
    "def union_parent(parent, a, b):\n",
    "    a = find_parent(parent, a)\n",
    "    b = find_parent(parent, b)\n",
    "    if a < b:\n",
    "        parent[b] = a\n",
    "    else:\n",
    "        parent[a] = b\n",
    "\n",
    "v,e = map(int, input().split()) # 노드의 개수, 간선의 개수\n",
    "parent = [0] * (v+1) # 부모 테이블 초기화\n",
    "\n",
    "for i in range(1,v+1):\n",
    "    parent[i] = i # 부모 테이블을 자기 자신으로\n",
    "    \n",
    "cycle = False\n",
    "\n",
    "for i in range(e):\n",
    "    a,b = map(int, input().split())\n",
    "    if find_parent(parent,a) == find_parent(parent,b): # 사이클이 발생한 경우\n",
    "        cycle = True\n",
    "        break\n",
    "    else:\n",
    "        union_parent(parent,a,b)\n",
    "if cycle:\n",
    "    print('사이클이 발생하였습니다.')\n",
    "else:\n",
    "    print('사이클이 발생하지 않았습니다.')"
   ]
  },
  {
   "cell_type": "markdown",
   "id": "cdc6ecbf",
   "metadata": {},
   "source": [
    "### 신장트리\n",
    "- spanning tree\n",
    "    - 하나의 그래프가 있을 때 모든 노드를 포함하면서 사이클이 존재하지 않는 부분"
   ]
  },
  {
   "cell_type": "markdown",
   "id": "2a3e8ec6",
   "metadata": {},
   "source": [
    "### 크루스칼 알고리즘\n",
    "- 최소한의 비용으로 신장 트리를 찾기\n",
    "- 가장 작은 비용으로 모든 노드들을 연결 가능\n",
    "- 모든 간선에 대하여 정렬을 수행한 뒤에 가장 거리가 짧은 간선부터 집합에 포함\n",
    "    - 단, 사이클이 발생할 경우 집합에 추가하지 않음\n",
    "- 순서\n",
    "    - 간선 데이터를 비용에 따라 오름차순 정렬\n",
    "    - 간선은 하나씩 확인하며 현재의 간선이 사이클을 발생시키는지 확인"
   ]
  },
  {
   "cell_type": "code",
   "execution_count": 1,
   "id": "f7629ce9",
   "metadata": {},
   "outputs": [
    {
     "name": "stdout",
     "output_type": "stream",
     "text": [
      "7 9\n",
      "1 2 29\n",
      "1 5 75\n",
      "2 3 35\n",
      "2 6 34\n",
      "3 4 7\n",
      "4 6 23\n",
      "4 7 13\n",
      "5 6 53\n",
      "6 7 25\n",
      "159\n"
     ]
    }
   ],
   "source": [
    "# 크루스칼 알고리즘\n",
    "\n",
    "# 특정 원소가 속한 집합 찾기\n",
    "def find_parent(parent, x):\n",
    "    if parent[x] != x:\n",
    "        parent[x] = find_parent(parent, parent[x])\n",
    "    return parent[x]\n",
    "\n",
    "def union_parent(parent, a, b):\n",
    "    a = find_parent(parent, a)\n",
    "    b = find_parent(parent, b)\n",
    "    if a < b:\n",
    "        parent[b] = a\n",
    "    else:\n",
    "        parent[a] = b\n",
    "        \n",
    "v,e = map(int, input().split()) # 노드의 개수, 간선의 개수\n",
    "parent = [0] * (v+1) # 부모 테이블 초기화\n",
    "\n",
    "edges = []\n",
    "result = 0\n",
    "\n",
    "for i in range(1,v+1):\n",
    "    parent[i] = i\n",
    "    \n",
    "for _ in range(e):\n",
    "    a, b, cost = map(int, input().split())\n",
    "    edges.append((cost,a,b)) # 비용순으로 정렬하기 위해\n",
    "    \n",
    "edges.sort()\n",
    "\n",
    "for edge in edges:\n",
    "    cost, a, b = edge\n",
    "    if find_parent(parent,a) != find_parent(parent,b):\n",
    "        union_parent(parent,a,b)\n",
    "        result += cost\n",
    "\n",
    "print(result)"
   ]
  },
  {
   "cell_type": "markdown",
   "id": "11553200",
   "metadata": {},
   "source": [
    "### 위상 정렬\n",
    "- Topology sort\n",
    "- 순서가 정해져 있는 일련의 작업을 차례대로 수행해야 할 때 사용\n",
    "- 방향 그래프의 모든 노드를 방향성에 거스리지 않도록 순서대로 나열하는 것\n",
    "- 진입차수\n",
    "    - 특정한 노드로 들어오는 간선의 개수\n",
    "- 순서\n",
    "    - 진입차수가 0인 노드를 큐에 넣는다\n",
    "    - 큐가 빌때까지 반복\n",
    "        - 큐에서 원소를 꺼내 해당 노드에서 출발하는 간선을 그래프에서 제거\n",
    "        - 새롭게 진입차수가 0이 된 노드를 큐에 넣는다\n",
    "- 모든 원소를 방문하기 전에 큐가 빈다면 사이클이 존재\n",
    "- 보통 사이클이 존재하지 않다고 가정\n",
    "- 답안이 여러가지 존재할 수 있음"
   ]
  },
  {
   "cell_type": "code",
   "execution_count": 4,
   "id": "2a512b88",
   "metadata": {},
   "outputs": [
    {
     "name": "stdout",
     "output_type": "stream",
     "text": [
      "7 8\n",
      "1 2\n",
      "1 5\n",
      "2 3\n",
      "2 6\n",
      "3 4\n",
      "4 7\n",
      "5 6\n",
      "6 4\n",
      "1 2 5 3 6 4 7 "
     ]
    }
   ],
   "source": [
    "# 위상 정렬\n",
    "from collections import deque\n",
    "\n",
    "v,e = map(int, input().split())\n",
    "\n",
    "indegree = [0] * (v+1) # 진입차수\n",
    "\n",
    "graph = [[] for i in range(v+1)]\n",
    "\n",
    "for _ in range(e):\n",
    "    a,b = map(int, input().split())\n",
    "    graph[a].append(b)\n",
    "    indegree[b] += 1\n",
    "\n",
    "def topology_sort():\n",
    "    result = []\n",
    "    q = deque()\n",
    "    \n",
    "    # 0인 노드들을 삽입\n",
    "    for i in range(1,v+1):\n",
    "        if indegree[i] == 0:\n",
    "                q.append(i)\n",
    "                \n",
    "    # 큐가 빌때까지\n",
    "    while q:\n",
    "        now = q.popleft()\n",
    "        result.append(now)\n",
    "        for i in graph[now]:\n",
    "            indegree[i] -= 1\n",
    "            if indegree[i] ==  0:\n",
    "                q.append(i)\n",
    "\n",
    "    for i in result:\n",
    "        print(i, end = ' ')\n",
    "topology_sort()"
   ]
  },
  {
   "cell_type": "markdown",
   "id": "43fd013b",
   "metadata": {},
   "source": [
    "### 문제 1 | 팀 결성\n",
    "- 팀 합치기: 두 팀을 합치는 연산\n",
    "- 같은 팀 여부 확인: 두 학생이 같은 팀에 속하는지 확인"
   ]
  },
  {
   "cell_type": "code",
   "execution_count": 10,
   "id": "b020066d",
   "metadata": {},
   "outputs": [
    {
     "name": "stdout",
     "output_type": "stream",
     "text": [
      "7 8\n",
      "0 1 3\n",
      "1 1 7\n",
      "no\n",
      "0 7 6\n",
      "1 7 1\n",
      "no\n",
      "0 3 7\n",
      "0 4 2\n",
      "0 1 1\n",
      "1 1 1\n",
      "yes\n"
     ]
    }
   ],
   "source": [
    "n,m = map(int, input().split())\n",
    "\n",
    "team = [0] * (n+1)\n",
    "\n",
    "for i in range(0,n+1):\n",
    "    team[i] = i\n",
    "    \n",
    "def find_team(team,x):\n",
    "    if team[x] != x:\n",
    "        team[x] = find_team(team,team[x])\n",
    "    return team[x]\n",
    "\n",
    "def union_team(team,a,b):\n",
    "    a = find_team(team,a)\n",
    "    b = find_team(team,b)\n",
    "    if a < b:\n",
    "        team[b] = a\n",
    "    else:\n",
    "        team[a] = b\n",
    "\n",
    "for j in range(m):\n",
    "    cal, a, b = map(int, input().split())\n",
    "    if cal == 0:\n",
    "        union_team(team,a,b)\n",
    "    else:\n",
    "        if find_team(team,a) == find_team(team,b):\n",
    "            print('yes')\n",
    "        else:\n",
    "            print('no')"
   ]
  },
  {
   "cell_type": "markdown",
   "id": "107e97dc",
   "metadata": {},
   "source": [
    "### 문제 2 | 도시 분할 계획"
   ]
  },
  {
   "cell_type": "code",
   "execution_count": 13,
   "id": "a6d387eb",
   "metadata": {},
   "outputs": [
    {
     "name": "stdout",
     "output_type": "stream",
     "text": [
      "7 12\n",
      "1 2 3\n",
      "1 3 2\n",
      "3 2 1\n",
      "2 5 2\n",
      "3 4 4\n",
      "7 3 6\n",
      "5 1 5\n",
      "1 6 2\n",
      "6 4 1\n",
      "6 5 3\n",
      "4 5 3\n",
      "6 7 4\n",
      "0\n"
     ]
    }
   ],
   "source": [
    "\n",
    "\n",
    "v,e = map(int, input().split())\n",
    "parent = [0] * (n+1)\n",
    "\n",
    "for i in range(0,v+1):\n",
    "    parent[i] = i\n",
    "    \n",
    "def find_parent(parent,x):\n",
    "    if parent[x] != x:\n",
    "        parent[x] = find_parent(parent,parent[x])\n",
    "    return parent[x]\n",
    "\n",
    "def union_parent(parent, a, b):\n",
    "    a = find_parent(parent, a)\n",
    "    b = find_parent(parent, b)\n",
    "    if a < b:\n",
    "        parent[b] = a\n",
    "    else:\n",
    "        parent[a] = b\n",
    "        \n",
    "edges = []\n",
    "result = 0\n",
    "\n",
    "for j in range(e):\n",
    "    a,b,cost = map(int,input().split())\n",
    "    edges.append((cost,a,b))\n",
    "\n",
    "edges.sort()\n",
    "last = 0\n",
    "for i in edges:\n",
    "    cost, a, b = i\n",
    "    if find_parent(parent,a) == find_parent(parent,b):\n",
    "        union_parent(parent,a,b)\n",
    "        result += cost\n",
    "        last = cost\n",
    "print(result-last)"
   ]
  },
  {
   "cell_type": "markdown",
   "id": "4d0dfa01",
   "metadata": {},
   "source": [
    "### 문제 3 | 커리큘럼\n",
    "- 강의에 대한 선수과목과 시간이 주어질 때 특정 과목을 듣기 위해 필요한 최소시간을 구하시오"
   ]
  },
  {
   "cell_type": "code",
   "execution_count": 2,
   "id": "7e0d975a",
   "metadata": {},
   "outputs": [
    {
     "name": "stdout",
     "output_type": "stream",
     "text": [
      "5\n",
      "10 -1\n",
      "10 1 -1\n",
      "4 1 -1\n",
      "4 3 1 -1\n",
      "3 3 -1\n",
      "10\n",
      "20\n",
      "14\n",
      "18\n",
      "17\n"
     ]
    }
   ],
   "source": [
    "# 위상정렬 알고리즘 사용\n",
    "\n",
    "from collections import deque\n",
    "import copy\n",
    "\n",
    "n = int(input())\n",
    "\n",
    "indegree = [0] * (n+1) # 진입차수\n",
    "\n",
    "graph = [[] for i in range(n+1)] # 방향성을 갖아 종속되는 노드들의 집합\n",
    "\n",
    "time = [0] * (n+1)\n",
    "\n",
    "for i in range(1,n+1):\n",
    "    data = list(map(int, input().split())) # 입력값마다 개수가 다르기 때문에 리스트로 처리\n",
    "    time[i] = data[0]\n",
    "    for j in data[1:-1]:\n",
    "        indegree[i] += 1 # 진입차수를 늘려줌\n",
    "        graph[j].append(i) # 종속되는 노드를 추가\n",
    "        \n",
    "def topology_sort():\n",
    "    result = copy.deepcopy(time) # time 리스트의 값이 변하지 않기 위해 deepcopy 사용\n",
    "    q = deque()\n",
    "    \n",
    "    for i in range(1,n+1):\n",
    "        if indegree[i] == 0: # 진입차수가 0일 경우\n",
    "            q.append(i)\n",
    "    \n",
    "    while q: # q가 비어있지 않을 경우\n",
    "        now = q.popleft()\n",
    "        for i in graph[now]:\n",
    "            result[i] = max(result[i], result[now] + time[i]) # 큰값을 갱신시켜줌\n",
    "            indegree[i] -= 1 # 진입차수를 갱신\n",
    "            if indegree[i] == 0:\n",
    "                q.append(i)\n",
    "                \n",
    "    for i in range(1,n+1):\n",
    "        print(result[i])\n",
    "\n",
    "topology_sort()    "
   ]
  }
 ],
 "metadata": {
  "kernelspec": {
   "display_name": "Python 3 (ipykernel)",
   "language": "python",
   "name": "python3"
  },
  "language_info": {
   "codemirror_mode": {
    "name": "ipython",
    "version": 3
   },
   "file_extension": ".py",
   "mimetype": "text/x-python",
   "name": "python",
   "nbconvert_exporter": "python",
   "pygments_lexer": "ipython3",
   "version": "3.9.7"
  }
 },
 "nbformat": 4,
 "nbformat_minor": 5
}
