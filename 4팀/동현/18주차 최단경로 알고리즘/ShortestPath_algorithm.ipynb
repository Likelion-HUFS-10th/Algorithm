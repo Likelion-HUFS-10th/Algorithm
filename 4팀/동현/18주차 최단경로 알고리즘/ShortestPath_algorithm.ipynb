{
 "cells": [
  {
   "cell_type": "markdown",
   "id": "3bd46d4e",
   "metadata": {},
   "source": [
    "### 최단경로 알고리즘\n",
    "- 가장 짧은 경로는 찾는 알고리즘\n",
    "- 다양한 유형이 존재 -> 상황에 따라 다른 알고리즘 사용\n",
    "    - 다익스트라 알고리즘\n",
    "    - 플로이드 워셜 알고리즘\n",
    "    - 벨만 포드 알고리즘\n",
    "- 그래프 사용 -> 노드를 지나는 경로로"
   ]
  },
  {
   "cell_type": "markdown",
   "id": "42843eb9",
   "metadata": {},
   "source": [
    "### 다익스트라 최단 경로 알고리즘\n",
    "- 특정한 노드에서 출발하여 다른 노드로 가는 각각의 최단 경로를 구해주는 알고리즘\n",
    "- 0보다 작은 값을 가지는 간선을 갖지 않을 때 작동\n",
    "- 그리디 알고리즘 -> 가장 비용이 작은 노드를 선택해서 임의의 과정을 반복\n",
    "- 순서\n",
    "1. 출발 노드를 설정\n",
    "2. 최단 거리 데이블을 초기화\n",
    "3. 방문하지 않은 노드 중에서 최단 거리가 가장 짧은 노드를 선택\n",
    "4. 해당 노드를 거쳐 다른 노드로 가는 비용을 계산하여 최단 거리 테이블을 갱신\n",
    "5. 3번, 4번을 반복"
   ]
  },
  {
   "cell_type": "markdown",
   "id": "e15db176",
   "metadata": {},
   "source": [
    "### 간단한 다익스트라 알고리즘\n",
    "- 각 노드에 대한 최단 거리를 담는 1차원 리스트 선언\n",
    "- 매 단계마다 1차원 리스트의 모든 원소를 확인(순차탐색)"
   ]
  },
  {
   "cell_type": "code",
   "execution_count": 1,
   "id": "c25eb0fe",
   "metadata": {},
   "outputs": [
    {
     "ename": "ValueError",
     "evalue": "not enough values to unpack (expected 2, got 0)",
     "output_type": "error",
     "traceback": [
      "\u001b[1;31m---------------------------------------------------------------------------\u001b[0m",
      "\u001b[1;31mValueError\u001b[0m                                Traceback (most recent call last)",
      "\u001b[1;32m~\\AppData\\Local\\Temp/ipykernel_20280/2388155260.py\u001b[0m in \u001b[0;36m<module>\u001b[1;34m\u001b[0m\n\u001b[0;32m      4\u001b[0m \u001b[0mINF\u001b[0m \u001b[1;33m=\u001b[0m \u001b[0mint\u001b[0m\u001b[1;33m(\u001b[0m\u001b[1;36m1e9\u001b[0m\u001b[1;33m)\u001b[0m\u001b[1;33m\u001b[0m\u001b[1;33m\u001b[0m\u001b[0m\n\u001b[0;32m      5\u001b[0m \u001b[1;33m\u001b[0m\u001b[0m\n\u001b[1;32m----> 6\u001b[1;33m \u001b[0mn\u001b[0m\u001b[1;33m,\u001b[0m\u001b[0mm\u001b[0m \u001b[1;33m=\u001b[0m \u001b[0mmap\u001b[0m\u001b[1;33m(\u001b[0m\u001b[0mint\u001b[0m\u001b[1;33m,\u001b[0m \u001b[0minput\u001b[0m\u001b[1;33m(\u001b[0m\u001b[1;33m)\u001b[0m\u001b[1;33m.\u001b[0m\u001b[0msplit\u001b[0m\u001b[1;33m(\u001b[0m\u001b[1;33m)\u001b[0m\u001b[1;33m)\u001b[0m\u001b[1;33m\u001b[0m\u001b[1;33m\u001b[0m\u001b[0m\n\u001b[0m\u001b[0;32m      7\u001b[0m \u001b[0mstart\u001b[0m \u001b[1;33m=\u001b[0m \u001b[0mint\u001b[0m\u001b[1;33m(\u001b[0m\u001b[0minput\u001b[0m\u001b[1;33m(\u001b[0m\u001b[1;33m)\u001b[0m\u001b[1;33m)\u001b[0m\u001b[1;33m\u001b[0m\u001b[1;33m\u001b[0m\u001b[0m\n\u001b[0;32m      8\u001b[0m \u001b[0mgraph\u001b[0m \u001b[1;33m=\u001b[0m \u001b[1;33m[\u001b[0m\u001b[1;33m[\u001b[0m\u001b[1;36m0\u001b[0m\u001b[1;33m]\u001b[0m \u001b[1;32mfor\u001b[0m \u001b[0mi\u001b[0m \u001b[1;32min\u001b[0m \u001b[0mrange\u001b[0m\u001b[1;33m(\u001b[0m\u001b[0mn\u001b[0m\u001b[1;33m+\u001b[0m\u001b[1;36m1\u001b[0m\u001b[1;33m)\u001b[0m\u001b[1;33m]\u001b[0m \u001b[1;31m# 노드에 대한 정보를 담는 리스트\u001b[0m\u001b[1;33m\u001b[0m\u001b[1;33m\u001b[0m\u001b[0m\n",
      "\u001b[1;31mValueError\u001b[0m: not enough values to unpack (expected 2, got 0)"
     ]
    }
   ],
   "source": [
    "# 간단한 다익스트라 알고리즘\n",
    "import sys\n",
    "input = sys.stdin.readline\n",
    "INF = int(1e9)\n",
    "\n",
    "n,m = map(int, input().split())\n",
    "start = int(input())\n",
    "graph = [[0] for i in range(n+1)] # 노드에 대한 정보를 담는 리스트\n",
    "visited = [False] * (n+1) # 방문한적이 있는지 체크하기\n",
    "distance = [INF] * (n+1) # 최단거리 테이블을 모두 무한으로 초기화\n",
    "\n",
    "for _ in range(m):\n",
    "    a,b,c = map(int, input().split()) # a번 노드에서 b번 노드로 가는 비용이 c\n",
    "    graph[a].append((b,c))\n",
    "\n",
    "# 방문하지 않은 노드 중에서 가장 최단 거리가 짧은 노드의 번호 찾는 함수\n",
    "def get_smallest_node():\n",
    "    min_value = INF\n",
    "    index = 0\n",
    "    for i in range(1,n+1):\n",
    "        if distance[i] < min_value and not visited[i]:\n",
    "            min_value = distance[i]\n",
    "            index = i\n",
    "    return index\n",
    "\n",
    "def dijkstra(start):\n",
    "    distance[start] = 0\n",
    "    visited[start] = True\n",
    "    for j in graph[start]:\n",
    "        distance[j[0]] = j[1]\n",
    "    for i in range(n-1): # 시작 노드 제외\n",
    "        now = get_smallest_node() # 현재 최단 거리가 가장 짧은 노드를 꺼내 방문 처리\n",
    "        visited[now] = True\n",
    "        for j in graph[now]: # 현재 노드와 연결된 다른 노드를 확인\n",
    "            cost = distance[now] + j[i]\n",
    "            if cost < distance[j[0]]: # 현재 노드를 거쳐서 다른 노드로 가는 거리가 더 짧은 경우\n",
    "                distance[j[0]] = cost\n",
    "\n",
    "dijkstra(start)\n",
    "\n",
    "for i in range(1,n+1):\n",
    "    if distance[i] == INF:\n",
    "        print(\"INFINITY\")\n",
    "    else:\n",
    "        print(distance[i])"
   ]
  },
  {
   "cell_type": "markdown",
   "id": "75275a7e",
   "metadata": {},
   "source": [
    "### 개선된 다익스트라 알고리즘\n",
    "- 힙 자료구조를 통한 우선순위 큐 사용\n",
    "- 우선순위 큐 -> 우선순위가 가장 높은 데이터를 가장 먼저 삭제\n",
    "- 가치가 높은 데이터부터 꺼낼 경우 효과적\n",
    "- 보통 heapq 사용\n",
    "- 최소힙 -> 값이 낮은 데이터가 먼저 삭제\n",
    "- 최대힙 -> 값이 큰 데이터가 먼저 삭제\n",
    "- 우선순위 큐를 사용하지만 작동 원리는 동일\n",
    "- 현재 가장 가까운 노드를 저장하기 위한 목적으로만 우선순위 큐를 추가\n"
   ]
  },
  {
   "cell_type": "code",
   "execution_count": 4,
   "id": "450df31e",
   "metadata": {},
   "outputs": [
    {
     "ename": "ValueError",
     "evalue": "not enough values to unpack (expected 2, got 0)",
     "output_type": "error",
     "traceback": [
      "\u001b[1;31m---------------------------------------------------------------------------\u001b[0m",
      "\u001b[1;31mValueError\u001b[0m                                Traceback (most recent call last)",
      "\u001b[1;32m~\\AppData\\Local\\Temp/ipykernel_20280/18733531.py\u001b[0m in \u001b[0;36m<module>\u001b[1;34m\u001b[0m\n\u001b[0;32m      5\u001b[0m \u001b[0mINF\u001b[0m \u001b[1;33m=\u001b[0m \u001b[0mint\u001b[0m\u001b[1;33m(\u001b[0m\u001b[1;36m1e9\u001b[0m\u001b[1;33m)\u001b[0m\u001b[1;33m\u001b[0m\u001b[1;33m\u001b[0m\u001b[0m\n\u001b[0;32m      6\u001b[0m \u001b[1;33m\u001b[0m\u001b[0m\n\u001b[1;32m----> 7\u001b[1;33m \u001b[0mn\u001b[0m\u001b[1;33m,\u001b[0m\u001b[0mm\u001b[0m \u001b[1;33m=\u001b[0m \u001b[0mmap\u001b[0m\u001b[1;33m(\u001b[0m\u001b[0mint\u001b[0m\u001b[1;33m,\u001b[0m \u001b[0minput\u001b[0m\u001b[1;33m(\u001b[0m\u001b[1;33m)\u001b[0m\u001b[1;33m.\u001b[0m\u001b[0msplit\u001b[0m\u001b[1;33m(\u001b[0m\u001b[1;33m)\u001b[0m\u001b[1;33m)\u001b[0m\u001b[1;33m\u001b[0m\u001b[1;33m\u001b[0m\u001b[0m\n\u001b[0m\u001b[0;32m      8\u001b[0m \u001b[1;33m\u001b[0m\u001b[0m\n\u001b[0;32m      9\u001b[0m \u001b[0mstart\u001b[0m \u001b[1;33m=\u001b[0m \u001b[0mint\u001b[0m\u001b[1;33m(\u001b[0m\u001b[0minput\u001b[0m\u001b[1;33m(\u001b[0m\u001b[1;33m)\u001b[0m\u001b[1;33m)\u001b[0m\u001b[1;33m\u001b[0m\u001b[1;33m\u001b[0m\u001b[0m\n",
      "\u001b[1;31mValueError\u001b[0m: not enough values to unpack (expected 2, got 0)"
     ]
    }
   ],
   "source": [
    "# 개선된 다익스트라 알고리즘\n",
    "import heapq\n",
    "import sys\n",
    "#input = sys.stdin.readline\n",
    "INF = int(1e9)\n",
    "\n",
    "n,m = map(int, input().split())\n",
    "\n",
    "start = int(input())\n",
    "\n",
    "graph = [[0] for i in range(n+1)] # 노드에 대한 정보를 담는 리스트\n",
    "distance = [INF] * (n+1) # 최단거리 테이블을 모두 무한으로 초기화\n",
    "\n",
    "for _ in range(m):\n",
    "    a,b,c = map(int, input().split()) # a번 노드에서 b번 노드로 가는 비용이 c\n",
    "    graph[a].append((b,c))\n",
    "\n",
    "def dijkstra(start):\n",
    "    q =[]\n",
    "    heapq.heappush(q, (0,start))\n",
    "    distance[start] = 0\n",
    "    while q: # q가 비어있는 상황이 아니라면\n",
    "        dist, now = heapq.heappop(q) # 가장 최단 거리가 짧은 노드\n",
    "        if distance[now] < dist: # 이미 처리된 적이 있다면\n",
    "            continue\n",
    "        for i in graph[now]: # 다른 노드들 확인\n",
    "            cost = dist + i[1]\n",
    "            if cost < distance[i[0]]: # 현재 노드를 거쳐 다른 노드로 이동하는 거리가 더 짧은 경우\n",
    "                distance[i[0]] = cost\n",
    "                heapq.heappush(q, (cost, i[0]))\n",
    "\n",
    "dijkstra(start)\n",
    "\n",
    "for i in range(1, n+1):\n",
    "    if distance[i] == INF:\n",
    "        print('INFINITY')\n",
    "    else:\n",
    "        print(distance[i])"
   ]
  },
  {
   "cell_type": "markdown",
   "id": "e7ee22d8",
   "metadata": {},
   "source": [
    "### 플로이드 워셜 알고리즘\n",
    "- 모든 지점에서 다른 모든 지점까지의 최단 경로를 모두 구해야 하는 경우\n",
    "- 매번 방문하지 않은 노드 중에서 최단 거리를 갖는 노드를 찾을 필요가 없음\n",
    "- 2차원 리스트에 최단 거리 정보를 저장\n",
    "- 다이나믹 프로그래밍 사용\n",
    "- 연결된 간선은 그 값을, 연결되지 않은 경우는 무한을 넣어줌"
   ]
  },
  {
   "cell_type": "code",
   "execution_count": 5,
   "id": "6c16d870",
   "metadata": {},
   "outputs": [
    {
     "ename": "ValueError",
     "evalue": "invalid literal for int() with base 10: ''",
     "output_type": "error",
     "traceback": [
      "\u001b[1;31m---------------------------------------------------------------------------\u001b[0m",
      "\u001b[1;31mValueError\u001b[0m                                Traceback (most recent call last)",
      "\u001b[1;32m~\\AppData\\Local\\Temp/ipykernel_20280/3866845879.py\u001b[0m in \u001b[0;36m<module>\u001b[1;34m\u001b[0m\n\u001b[0;32m      2\u001b[0m \u001b[0mINF\u001b[0m \u001b[1;33m=\u001b[0m \u001b[0mint\u001b[0m\u001b[1;33m(\u001b[0m\u001b[1;36m1e9\u001b[0m\u001b[1;33m)\u001b[0m\u001b[1;33m\u001b[0m\u001b[1;33m\u001b[0m\u001b[0m\n\u001b[0;32m      3\u001b[0m \u001b[1;33m\u001b[0m\u001b[0m\n\u001b[1;32m----> 4\u001b[1;33m \u001b[0mn\u001b[0m \u001b[1;33m=\u001b[0m \u001b[0mint\u001b[0m\u001b[1;33m(\u001b[0m\u001b[0minput\u001b[0m\u001b[1;33m(\u001b[0m\u001b[1;33m)\u001b[0m\u001b[1;33m)\u001b[0m\u001b[1;33m\u001b[0m\u001b[1;33m\u001b[0m\u001b[0m\n\u001b[0m\u001b[0;32m      5\u001b[0m \u001b[0mm\u001b[0m \u001b[1;33m=\u001b[0m \u001b[0mint\u001b[0m\u001b[1;33m(\u001b[0m\u001b[0minput\u001b[0m\u001b[1;33m(\u001b[0m\u001b[1;33m)\u001b[0m\u001b[1;33m)\u001b[0m\u001b[1;33m\u001b[0m\u001b[1;33m\u001b[0m\u001b[0m\n\u001b[0;32m      6\u001b[0m \u001b[1;33m\u001b[0m\u001b[0m\n",
      "\u001b[1;31mValueError\u001b[0m: invalid literal for int() with base 10: ''"
     ]
    }
   ],
   "source": [
    "# 플로이드 워셜 알고리즘\n",
    "INF = int(1e9)\n",
    "\n",
    "n = int(input())\n",
    "m = int(input())\n",
    "\n",
    "graph = [[INF] * (n+1) for _ in range(n+1)] # 모든 값이 무한인 리스트\n",
    "\n",
    "# 자기 자신에게 가는 것은 0으로\n",
    "for a in range(1,n+1):\n",
    "    for b in range(1,n+1):\n",
    "        if a == b:\n",
    "            graph[a][b] = 0\n",
    "\n",
    "# 각 정보를 받아 저장\n",
    "for _ in range(m):\n",
    "    a,b,c = map(int,input().split())\n",
    "    graph[a][b] = c # a에서 b로 가는 비용은 c\n",
    "\n",
    "# 플로이드 워셜 알고리즘 수행\n",
    "for k in range(1,n+1):\n",
    "    for a in range(1,n+1):\n",
    "        for b in range(1,n+1):\n",
    "            graph[a][b] = min(graph[a][b], graph[a][k] + graph[k][b])\n",
    "\n",
    "for a in range(1,n+1):\n",
    "    for b in range(1,n+1):\n",
    "        if graph[a][b] == INF:\n",
    "            print('INFINITY', end=' ')\n",
    "        else:\n",
    "            print(graph[a][b], end =' ')\n",
    "    print()"
   ]
  },
  {
   "cell_type": "markdown",
   "id": "9c37eee0",
   "metadata": {},
   "source": [
    "### 문제 1 | 미래 도시\n",
    "- K번 회사를 거쳐 X번 회사로 가는 최소 이동 시간을 찾기"
   ]
  },
  {
   "cell_type": "code",
   "execution_count": 7,
   "id": "ae816417",
   "metadata": {},
   "outputs": [
    {
     "ename": "ValueError",
     "evalue": "invalid literal for int() with base 10: ''",
     "output_type": "error",
     "traceback": [
      "\u001b[1;31m---------------------------------------------------------------------------\u001b[0m",
      "\u001b[1;31mValueError\u001b[0m                                Traceback (most recent call last)",
      "\u001b[1;32m~\\AppData\\Local\\Temp/ipykernel_20280/3387320921.py\u001b[0m in \u001b[0;36m<module>\u001b[1;34m\u001b[0m\n\u001b[1;32m----> 1\u001b[1;33m \u001b[0mn\u001b[0m \u001b[1;33m=\u001b[0m \u001b[0mint\u001b[0m\u001b[1;33m(\u001b[0m\u001b[0minput\u001b[0m\u001b[1;33m(\u001b[0m\u001b[1;33m)\u001b[0m\u001b[1;33m)\u001b[0m\u001b[1;33m\u001b[0m\u001b[1;33m\u001b[0m\u001b[0m\n\u001b[0m",
      "\u001b[1;31mValueError\u001b[0m: invalid literal for int() with base 10: ''"
     ]
    }
   ],
   "source": [
    "n, m = map(int, input().split())\n",
    "\n",
    "INF = int(1e9)\n",
    "graph = [[INF] * (n+1) for i in range(n+1)]\n",
    "\n",
    "for a in range(1,n+1):\n",
    "    for b in range(1,n+1):\n",
    "        if a == b:\n",
    "            graph[a][b] = 0\n",
    "            \n",
    "for j in range(m):\n",
    "    a,b = map(int. input().split())\n",
    "    graph[a][b] = 1\n",
    "    graph[b][a] = 1\n",
    "x,k = map(int,input().split())   \n",
    "for k in range(1,n+1):\n",
    "    for a in range(1,n+1):\n",
    "        for b in range(1,n+1):\n",
    "            graph[a][b] = min(graph[a][b], graph[a][k] + graph[k][b])\n",
    "            \n",
    "time = graph[1][k] + graph[k][x]\n",
    "\n",
    "if time == INF:\n",
    "    print('-1')\n",
    "else:\n",
    "    print(time)"
   ]
  },
  {
   "cell_type": "code",
   "execution_count": null,
   "id": "2bae69d5",
   "metadata": {},
   "outputs": [],
   "source": []
  }
 ],
 "metadata": {
  "kernelspec": {
   "display_name": "Python 3 (ipykernel)",
   "language": "python",
   "name": "python3"
  },
  "language_info": {
   "codemirror_mode": {
    "name": "ipython",
    "version": 3
   },
   "file_extension": ".py",
   "mimetype": "text/x-python",
   "name": "python",
   "nbconvert_exporter": "python",
   "pygments_lexer": "ipython3",
   "version": "3.9.7"
  }
 },
 "nbformat": 4,
 "nbformat_minor": 5
}
