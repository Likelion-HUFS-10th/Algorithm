{
 "cells": [
  {
   "cell_type": "markdown",
   "metadata": {},
   "source": [
    "## `구현`\n",
    "\n",
    "- 머릿속에 있는 알고리즘을 소스코드로 바꾸는 과정\n",
    "\n",
    "#### 파이썬의 리스트 크기 제한\n",
    "- 메모리 제한을 고려해야 함\n",
    "- 대체로 테스트에서는 128~512MB로 크기를 제한함\n",
    "<br>\n",
    "- 리스트의 길이가 1000인 경우 - 4KB\n",
    "- 리스트의 길이가 1000000인 경우 - 4MB\n",
    "- 리스트의 길이가 10.000.000 인 경우 - 40MB\n",
    "<br>\n",
    "- => 따라서, 크기가 천만 이상인 경우에는 용량 제한으로 문제를 풀 수 없을 수도 있음\n",
    "\n",
    "#### 시간 제한\n",
    "- 1초 제한, 데이터의 개수 100만개 => O(N log N ) 이내의 문제를 풀어야 함\n"
   ]
  },
  {
   "cell_type": "markdown",
   "metadata": {},
   "source": [
    "#### 예제 4-1 상하좌우"
   ]
  },
  {
   "cell_type": "code",
   "execution_count": 1,
   "metadata": {},
   "outputs": [
    {
     "name": "stdout",
     "output_type": "stream",
     "text": [
      "3 4\n"
     ]
    }
   ],
   "source": [
    "n = int(input())\n",
    "moves = list(input().split())\n",
    "x,y = 0,0\n",
    "\n",
    "arr = [\n",
    "    [0 for _ in range(n)]\n",
    "    for _ in range(n)\n",
    "]\n",
    "\n",
    "move_dict = {\n",
    "    \"L\":(0,-1),\n",
    "    \"R\":(0,1),\n",
    "    \"U\":(-1,0),\n",
    "    \"D\":(1,0)\n",
    "}\n",
    "\n",
    "def in_range(x,y):\n",
    "    return x>=0 and y>=0 and x<n and y<n\n",
    "\n",
    "for move in moves:\n",
    "    move_x, move_y = move_dict[move]\n",
    "    new_x, new_y = x+move_x, y+move_y\n",
    "    if in_range(new_x,new_y):\n",
    "        x,y = new_x, new_y\n",
    "\n",
    "print(x+1,y+1)"
   ]
  },
  {
   "cell_type": "markdown",
   "metadata": {},
   "source": [
    "#### 예제 4-2 시각"
   ]
  },
  {
   "cell_type": "markdown",
   "metadata": {},
   "source": [
    "모든 시각 중에서 3이 하나라도 포함되는 모든 경우의 수를 구하는 프로그램"
   ]
  },
  {
   "cell_type": "code",
   "execution_count": 1,
   "metadata": {},
   "outputs": [
    {
     "name": "stdout",
     "output_type": "stream",
     "text": [
      "11475\n"
     ]
    }
   ],
   "source": [
    "n = int(input())\n",
    "\n",
    "cnt = 0\n",
    "\n",
    "for i in range(n+1):\n",
    "    for j in range(60):\n",
    "        for k in range(60):\n",
    "            time = str(i)+str(j)+str(k)\n",
    "            if \"3\" in time:\n",
    "                cnt+=1\n",
    "\n",
    "print(cnt)"
   ]
  },
  {
   "cell_type": "markdown",
   "metadata": {},
   "source": [
    "> ### 2 왕실의 나이트\n",
    "- 정원 밖으로 나갈 수 없음\n",
    "- 이동 가능한 경로\n",
    "1. 수평으로 두 칸 이동 => 수직으로 한 칸\n",
    "2. 수직으로 두 칸 이동 => 수평으로 한 칸"
   ]
  },
  {
   "cell_type": "code",
   "execution_count": 8,
   "metadata": {},
   "outputs": [
    {
     "name": "stdout",
     "output_type": "stream",
     "text": [
      "2\n"
     ]
    }
   ],
   "source": [
    "idx = input()\n",
    "x = int(idx[1])-1\n",
    "y = int(ord(idx[0])-int(ord('a')))\n",
    "cnt = 0\n",
    "\n",
    "move_dir = [\n",
    "    (-2,-1),\n",
    "    (2,1),\n",
    "    (2,-1),\n",
    "    (-2,1),\n",
    "    (-1,2),\n",
    "    (1,2),\n",
    "    (1,-2),\n",
    "    (-1,-2)\n",
    "]\n",
    "\n",
    "def in_range(x,y):\n",
    "    return x<8 and y<8 and x>=0 and y>=0\n",
    "\n",
    "for dir in move_dir:\n",
    "    new_x, new_y = x+dir[0], y+dir[1]\n",
    "    if in_range(new_x, new_y):\n",
    "        cnt+=1\n",
    "\n",
    "print(cnt)"
   ]
  },
  {
   "cell_type": "markdown",
   "metadata": {},
   "source": [
    "> ### 3 게임 개발\n",
    "1. 현재 위치를 기준으로 왼쪽방향부터 갈 곳을 정함 (반시계방향으로 90도 회전한 방향부터)\n",
    "2. 바로 왼쪽에 가보지 않은 칸이 있으면 왼쪽 방향으로 회전하고 전진 => 없으면 회전만 하고 다시 1단계로\n",
    "3. 네 방향 모두 이미 가봤거나 바다라면 바라보는 방향만 유지하고 한 칸 뒤로 가고 1단계로 돌아가기 / 뒤쪽 방향이 바다라서 뒤로 갈 수 없다면 움직임을 멈추기"
   ]
  },
  {
   "cell_type": "code",
   "execution_count": 16,
   "metadata": {},
   "outputs": [
    {
     "name": "stdout",
     "output_type": "stream",
     "text": [
      "3\n"
     ]
    }
   ],
   "source": [
    "n,m = map(int,input().split()) # 세로, 가로\n",
    "x,y,dir_num = map(int,input().split())\n",
    "\n",
    "arr = [\n",
    "    list(map(int,input().split()))\n",
    "    for _ in range(n)\n",
    "]\n",
    "visited = [\n",
    "    [False for _ in range(m)]\n",
    "    for _ in range(n)\n",
    "]\n",
    "\n",
    "# 0 - 북쪽 / 1 - 동쪽 / 2 - 남쪽 / 3 - 서쪽\n",
    "# 0 -> 3\n",
    "# 3 -> 2\n",
    "\n",
    "move_dir_forward = {\n",
    "    0:(-1,0),\n",
    "    1:(0,1),\n",
    "    2:(1,0),\n",
    "    3:(0,-1)\n",
    "}\n",
    "\n",
    "move_dir_back = {\n",
    "    0:(1,0),\n",
    "    1:(0,-1),\n",
    "    2:(-1,0),\n",
    "    3:(0,1)\n",
    "}\n",
    "\n",
    "def can_go(x,y): #범위 안에 있는지\n",
    "    return x>=0 and y>=0 and x<n and y<m and arr[x][y]==0 and visited[x][y]==False #0이면 바다라서 못감\n",
    "\n",
    "def move():\n",
    "    global dir_num, x, y\n",
    "    for i in range(4):\n",
    "        dir_num = (dir_num-1+4)%4\n",
    "        new_x = x+move_dir_forward[dir_num][0]\n",
    "        new_y = y+move_dir_forward[dir_num][1]\n",
    "\n",
    "        if can_go(new_x,new_y):\n",
    "            x,y = new_x, new_y\n",
    "            visited[x][y] = True\n",
    "            move()\n",
    "\n",
    "new_x = x+move_dir_back[dir_num][0]\n",
    "new_y = y+move_dir_back[dir_num][1]\n",
    "if can_go(new_x,new_y):\n",
    "    x,y = new_x, new_y\n",
    "    visited[x][y] = True\n",
    "\n",
    "\n",
    "visited[x][y] = True\n",
    "move()\n",
    "\n",
    "result = 0\n",
    "for i in range(n):\n",
    "    for j in range(m):\n",
    "        if visited[i][j]==True and arr[i][j]==0:\n",
    "            result +=1\n",
    "print(result)"
   ]
  }
 ],
 "metadata": {
  "kernelspec": {
   "display_name": "Python 3.10.5 64-bit",
   "language": "python",
   "name": "python3"
  },
  "language_info": {
   "codemirror_mode": {
    "name": "ipython",
    "version": 3
   },
   "file_extension": ".py",
   "mimetype": "text/x-python",
   "name": "python",
   "nbconvert_exporter": "python",
   "pygments_lexer": "ipython3",
   "version": "3.10.5"
  },
  "orig_nbformat": 4,
  "vscode": {
   "interpreter": {
    "hash": "aee8b7b246df8f9039afb4144a1f6fd8d2ca17a180786b69acc140d282b71a49"
   }
  }
 },
 "nbformat": 4,
 "nbformat_minor": 2
}
