{
 "cells": [
  {
   "cell_type": "markdown",
   "metadata": {},
   "source": [
    "## `그리디`\n",
    "\n",
    "- 지금 당장 좋은 것만 고르는 방법\n",
    "- 현재의 선택이 나중에 미칠 영향은 고려하지 않음"
   ]
  },
  {
   "cell_type": "markdown",
   "metadata": {},
   "source": [
    "### 대표 유형 1. 거스름돈\n",
    "- 거슬러줘야 할 돈이 N원일 때 거슬러줘야 할 동전의 최소 개수 (동전은 항상 10의 배수)"
   ]
  },
  {
   "cell_type": "code",
   "execution_count": 1,
   "metadata": {},
   "outputs": [
    {
     "name": "stdout",
     "output_type": "stream",
     "text": [
      "6\n"
     ]
    }
   ],
   "source": [
    "n = int(input())\n",
    "\n",
    "coins = [500,100,50,10]\n",
    "cnt = 0\n",
    "\n",
    "for coin in coins:\n",
    "    cnt += n//coin\n",
    "    n %= coin\n",
    "\n",
    "print(cnt)"
   ]
  },
  {
   "cell_type": "markdown",
   "metadata": {},
   "source": [
    "#### 항상 정당성을 따져봐야 한다.\n",
    "- 거스름돈 문제가 그리디로 정당한 이유는 가지고 있는 동전 중에서 가장 큰 단위가 항상 작은 단위의 배수이기 때문에 다른 해가 나올 수 없어서!"
   ]
  },
  {
   "cell_type": "markdown",
   "metadata": {},
   "source": [
    "### 우선은 그리디라고 의심하자.\n",
    "- 그리디로 해결할 수 없다면 DP / Graph 를 고려하자"
   ]
  },
  {
   "cell_type": "markdown",
   "metadata": {},
   "source": [
    "### 실전 문제 1. 큰 수의 법칙\n",
    "- 주어진 수들을 M번 더해서 가장 큰 수를 찾는 법칙\n",
    "- N 숫자의 개수\n",
    "- M 몇번 더할지\n",
    "- K 연속해서 몇번 더할 수 있는지\n",
    "- 인덱스가 다르면 같은 숫자도 다른 숫자로 취급"
   ]
  },
  {
   "cell_type": "markdown",
   "metadata": {},
   "source": [
    "#### 내가 작성한 코드"
   ]
  },
  {
   "cell_type": "code",
   "execution_count": 10,
   "metadata": {},
   "outputs": [
    {
     "name": "stdout",
     "output_type": "stream",
     "text": [
      "46\n"
     ]
    }
   ],
   "source": [
    "n,m,k = map(int,input().split())\n",
    "arr = list(map(int,input().split()))\n",
    "arr.sort(reverse=True) #내림차순으로 정렬하기\n",
    "\n",
    "first_num = arr[0]\n",
    "second_num = arr[1]\n",
    "result = 0\n",
    "cnt = 0\n",
    "\n",
    "while True:\n",
    "    for i in range(k):\n",
    "        if cnt >= m:\n",
    "            break\n",
    "        result += first_num\n",
    "        cnt+=1\n",
    "    if cnt >= m:\n",
    "        break\n",
    "    result+=second_num\n",
    "    cnt+=1\n",
    "\n",
    "print(result)"
   ]
  },
  {
   "cell_type": "markdown",
   "metadata": {},
   "source": [
    "### 그리디를 이용한 코드"
   ]
  },
  {
   "cell_type": "markdown",
   "metadata": {},
   "source": [
    "- 숫자를 더하는 횟수에 패턴이 있음.\n",
    "    - 가장 큰 수 k번 + 그 다음으로 큰 수 1번씩 더함\n",
    "- 즉, 총 M번 더하므로 M/(K+1) 번의 패턴이 반복되는 것!\n",
    "    - 따라서  M/(K+1)*K 는 가장 큰 수가 더해지는 숫자 (패턴 * 최대로 반복해도 되는 횟수)\n",
    "- 그러나 나누어떨어지지 않는 경우도 존재함을 고려해야 함 => 따라서 M/(K+1)*K + M%(K+1) 이 가장 큰 숫자가 나오는 총 횟수"
   ]
  },
  {
   "cell_type": "code",
   "execution_count": 13,
   "metadata": {},
   "outputs": [
    {
     "name": "stdout",
     "output_type": "stream",
     "text": [
      "46\n"
     ]
    }
   ],
   "source": [
    "n,m,k = map(int,input().split())\n",
    "arr = list(map(int,input().split()))\n",
    "arr.sort(reverse=True) #내림차순으로 정렬하기\n",
    "\n",
    "first_num = arr[0]\n",
    "second_num = arr[1]\n",
    "result = 0\n",
    "\n",
    "max_num_cnt = m//(k+1)*k + m%(k+1)\n",
    "result += max_num_cnt * first_num\n",
    "m -= max_num_cnt\n",
    "\n",
    "result += m * second_num\n",
    "\n",
    "print(result)"
   ]
  },
  {
   "cell_type": "markdown",
   "metadata": {},
   "source": [
    "### 실전 문제 2. 숫자 카드 게임\n",
    "\n",
    "- 숫자 카드 중 가장 높은 숫자가 쓰인 카드를 룰을 지키며 한 장 뽑는 것\n",
    "- 뽑고자 하는 카드가 포함되어 있는 행을 선택 => 행에 포함된 카드들 중에서 가장 숫자가 낮은 카드 뽑기\n",
    "- 전략적으로 최종으로 가장 큰 숫자를 뽑도록 해야 함"
   ]
  },
  {
   "cell_type": "code",
   "execution_count": 17,
   "metadata": {},
   "outputs": [
    {
     "name": "stdout",
     "output_type": "stream",
     "text": [
      "2\n"
     ]
    }
   ],
   "source": [
    "n,m = map(int,input().split()) #n은 행의 개수 / m은 열의 개수\n",
    "cards = [\n",
    "    list(map(int,input().split())) #m개만큼\n",
    "    for _ in range(n)\n",
    "]\n",
    "\n",
    "min_num = 0\n",
    "\n",
    "for i in range(n):\n",
    "    if min(cards[i]) > min_num:\n",
    "        min_num = min(cards[i])\n",
    "\n",
    "print(min_num)"
   ]
  },
  {
   "cell_type": "markdown",
   "metadata": {},
   "source": [
    "### 실전 문제 3. 1이 될 때까지\n",
    "\n",
    "- 어떤 수 N이 1이 될 대까지 과정을 반복적으로 선택하여 수행\n",
    "- N이 K로 나누어질 때만 두번째 연산 선택 가능\n",
    "1. N에서 1 빼기\n",
    "2. N을 K로 나누기\n",
    "\n",
    "- 연산의 최소 횟수 구하기"
   ]
  },
  {
   "cell_type": "markdown",
   "metadata": {},
   "source": [
    "#### 내가 작성한 코드"
   ]
  },
  {
   "cell_type": "code",
   "execution_count": 32,
   "metadata": {},
   "outputs": [
    {
     "name": "stdout",
     "output_type": "stream",
     "text": [
      "3\n"
     ]
    }
   ],
   "source": [
    "n,k = map(int,input().split())\n",
    "cnt = 0\n",
    "\n",
    "while n!=1:\n",
    "    if n%k==0:\n",
    "        n = n//k\n",
    "        cnt+=1\n",
    "    else:\n",
    "        n-=1\n",
    "        cnt+=1\n",
    "\n",
    "print(cnt)"
   ]
  },
  {
   "cell_type": "markdown",
   "metadata": {},
   "source": [
    "#### 책의 예시 코드"
   ]
  },
  {
   "cell_type": "code",
   "execution_count": 35,
   "metadata": {},
   "outputs": [
    {
     "name": "stdout",
     "output_type": "stream",
     "text": [
      "3\n"
     ]
    }
   ],
   "source": [
    "n,k = map(int,input().split())\n",
    "cnt = 0\n",
    "result = 0\n",
    "\n",
    "while True:\n",
    "    target = (n//k) * k # k로 나눠떨어지는 수를 만들기 위해서! 즉 n%k==0 을 만들기 위해\n",
    "    result += (n-target) # 그 차이만큼 1을 빼야 해서\n",
    "    n = target\n",
    "    if n < k:\n",
    "        # 더 이상 나눌 수 없기 때문에 탈출\n",
    "        break\n",
    "    result +=1\n",
    "    n = n//k\n",
    "\n",
    "result += (n-1)\n",
    "print(result)"
   ]
  },
  {
   "cell_type": "markdown",
   "metadata": {},
   "source": [
    "### `최대한 많이 나눠야겠구나! 라고 생각하기`\n",
    "- 나누는 것이 숫자를 가장 빠르게 줄일 수 있기 때문에"
   ]
  }
 ],
 "metadata": {
  "kernelspec": {
   "display_name": "Python 3.10.5 64-bit",
   "language": "python",
   "name": "python3"
  },
  "language_info": {
   "codemirror_mode": {
    "name": "ipython",
    "version": 3
   },
   "file_extension": ".py",
   "mimetype": "text/x-python",
   "name": "python",
   "nbconvert_exporter": "python",
   "pygments_lexer": "ipython3",
   "version": "3.10.5"
  },
  "orig_nbformat": 4,
  "vscode": {
   "interpreter": {
    "hash": "aee8b7b246df8f9039afb4144a1f6fd8d2ca17a180786b69acc140d282b71a49"
   }
  }
 },
 "nbformat": 4,
 "nbformat_minor": 2
}
