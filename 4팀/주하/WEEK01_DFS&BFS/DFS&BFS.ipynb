{
 "cells": [
  {
   "cell_type": "markdown",
   "id": "685a7ee6-a6ea-4430-8c46-2c8f4d88dc1c",
   "metadata": {},
   "source": [
    "## <BFS/DFS>\n",
    "- 탐색: 많은 양의 데이터 중에서 원하는 데이터를 찾는 과정\n",
    "    - 그래프, 트리 등의 자료구조 안에서 탐색 문제 자주 다룸   \n",
    "- 대표적인 탐색 알고리즘 : DFS/BFS  \n",
    "- 자료구조란? 데이터를 표현하고 관리하고 처리하기 위한 구조\n",
    "    - 삽입(push) : 데이터를 삽입한다\n",
    "    - 삭제(pop) : 데이터를 삭제한다    \n"
   ]
  },
  {
   "cell_type": "markdown",
   "id": "6ee7fad9-d386-4259-b395-8476d56dd4de",
   "metadata": {},
   "source": [
    "#### 스택(Stack)\n",
    " - 박스 쌓기(아래에서 위로)\n",
    " - 선입후출 or 후입 선출 구조\n",
    " - 별도의 라이브러리 사용할 필요x\n",
    " - append(), pop() 메서드 사용 (뒤에서 넣고, 뒤에서 꺼낸다)  \n",
    " \n",
    "#### 큐(queue)\n",
    "  - 대기줄 (먼저 온 사람이 먼저 들어가기)\n",
    "  - 선입선출 구조\n",
    "  - 큐는 collections 모듈에서 제공하는 deque 자료구조를 활용\n",
    "  - 데이터를 넣고 빼는 속도가 리스트 자료형에 비해 효율적이고 간단함\n",
    "  - deque 객체를 리스트 자료형으로 변경하고자 하면 -> list() 메서드 이용 -> list(queue) "
   ]
  },
  {
   "cell_type": "markdown",
   "id": "7d58c150-ac77-4d41-ae0c-c998527ac02a",
   "metadata": {},
   "source": [
    "#### 재귀 함수\n",
    " - 자기 자신을 다시 호출하는 함수  \n",
    " - <재귀 함수의 종료 조건>\n",
    "   - 재귀함수는 종료 조건을 꼭 명시해야 함 -> 그렇지 않으면 함수 무한 호출\n",
    "   - 재귀함수의 수행은 스택 자료구조를 이용 (DFS가 대표적인 재귀함수로 구현될 수 있는 알고리즘의 예)\n",
    "   - 재귀함수 예제 : 팩토리얼 문제 (!)\n",
    "   "
   ]
  },
  {
   "cell_type": "code",
   "execution_count": 4,
   "id": "5da5da1c-adc4-4b63-a969-da903019b244",
   "metadata": {
    "tags": []
   },
   "outputs": [
    {
     "name": "stdout",
     "output_type": "stream",
     "text": [
      "1 번째 재귀함수에서 2 번째 재귀함수를 호출합니다.\n",
      "2 번째 재귀함수에서 3 번째 재귀함수를 호출합니다.\n",
      "3 번째 재귀함수에서 4 번째 재귀함수를 호출합니다.\n",
      "4 번째 재귀함수에서 5 번째 재귀함수를 호출합니다.\n",
      "4 번째 재귀 함수를 종료합니다.\n",
      "3 번째 재귀 함수를 종료합니다.\n",
      "2 번째 재귀 함수를 종료합니다.\n",
      "1 번째 재귀 함수를 종료합니다.\n"
     ]
    }
   ],
   "source": [
    "# 재귀 함수 종료 예제\n",
    "def re_function(i):\n",
    "    if i == 5:\n",
    "        return\n",
    "    print(i, '번째 재귀함수에서', i+1, '번째 재귀함수를 호출합니다.')\n",
    "    re_function(i+1)\n",
    "    print(i, '번째 재귀 함수를 종료합니다.')\n",
    "re_function(1)"
   ]
  },
  {
   "cell_type": "code",
   "execution_count": 5,
   "id": "732ae019-c39e-4b05-b4de-27a40b09d475",
   "metadata": {},
   "outputs": [
    {
     "name": "stdout",
     "output_type": "stream",
     "text": [
      "반복구현 6\n",
      "재귀구현 6\n"
     ]
    }
   ],
   "source": [
    "# 2가지 방식으로 구현한 팩토리얼 예제\n",
    "\n",
    "#1.반복적 구현한 n!\n",
    "def factorial(n):\n",
    "    result = 1\n",
    "    for i in range(1, n+1):\n",
    "        result *= i\n",
    "    return result\n",
    "\n",
    "#2. 재귀적으로 구현한 n!\n",
    "def factorial2(n): \n",
    "    if n<=1:                   # n이 1이하인 경우 1을 반환\n",
    "        return 1\n",
    "    return n*factorial2(n-1)   # n! = n*(n-1)! 그대로 코드로 작성\n",
    "\n",
    "print('반복구현', factorial(3))\n",
    "print('재귀구현', factorial2(3))\n"
   ]
  },
  {
   "cell_type": "markdown",
   "id": "430e6b4a-9ca6-4401-8f37-f74ba9777d98",
   "metadata": {},
   "source": [
    "#### DFS\n",
    "- 깊이 우선 탐색 : 그래프에서 깊은 부분을 우선적으로 탐색하는 알고리즘(최대한 멀리 있는 노드를 우선으로 탐색)\n",
    "- 노드(정점), 간선으로 구성되어 있음\n",
    "- 노드는 간선으로 연결되어 있음\n",
    "- O(N)의 시간 소요\n",
    "- 특정한 경로로 탐색하다가 특정 상황에서 최대한 깊숙이 들어가서 노드를 방문한 후, 다시 돌아가 다른 경로로 탐색\n",
    "- 그래프의 2가지 방식 표현\n",
    "    - 인접 행렬 : 2차원 배열로 그래프의 연결 관계를 표현하는 방식\n",
    "    - 인접 리스트: 리스트로 그래프의 연결 관계를 표현하는 방식\n",
    "        - 인접 리스트를 이용해 그래프를 표현하고자 할 때에도 단순히 2차원 리스트를 이용하면 된다\n",
    " \n",
    "- 두 방식의 차이\n",
    "    - 인접행렬 방식은 모든 관계 저장 -> 노드 개수 많아짐 -> 메모리 낭비\n",
    "    - 인접리스트 방식은 -> 연결된 정보만 저장 -> 메모리 효율적 사용 -> BUT 정보를 얻는 속도는 느림 연결된 데이터 하나씩 확인해야 함\n",
    " \n",
    "- DFS는 스택 자료구조에 기초한다는 점에서 구현이 간단함\n",
    "- 재귀함수를 이용할 때에도 매우 간결하게 구현 가능\n",
    "    \n",
    "    "
   ]
  },
  {
   "cell_type": "code",
   "execution_count": 6,
   "id": "35eb0417-81ec-4891-8c07-b1565ca3564b",
   "metadata": {},
   "outputs": [
    {
     "name": "stdout",
     "output_type": "stream",
     "text": [
      "[[0, 7, 5], [7, 0, 99999], [5, 99999, 0]]\n"
     ]
    }
   ],
   "source": [
    "# 인접 행렬 방식 예제\n",
    "INF = 99999 # 무한의 비용 선언\n",
    "\n",
    "graph = [\n",
    "    [0,7,5],     # 2차원 배열\n",
    "    [7,0,INF],\n",
    "    [5, INF, 0]\n",
    "]\n",
    "\n",
    "print(graph)\n"
   ]
  },
  {
   "cell_type": "code",
   "execution_count": 7,
   "id": "dee7dcb7-d5fb-4e2a-8ee9-ee8527ad3eb3",
   "metadata": {},
   "outputs": [
    {
     "name": "stdout",
     "output_type": "stream",
     "text": [
      "[[(1, 7), (2, 5)], [(0, 7)], [0.5]]\n"
     ]
    }
   ],
   "source": [
    "# 인접 리스트 방식 예제\n",
    "graph = [[] for _ in range(3)]\n",
    "\n",
    "graph[0].append((1,7))\n",
    "graph[0].append((2,5))\n",
    "\n",
    "graph[1].append((0,7))\n",
    "graph[2].append((0.5))\n",
    "\n",
    "print(graph)"
   ]
  },
  {
   "cell_type": "code",
   "execution_count": 8,
   "id": "b9677ba8-9ad0-42a8-bee8-3c064bf7763d",
   "metadata": {},
   "outputs": [
    {
     "name": "stdout",
     "output_type": "stream",
     "text": [
      "1 2 7 6 8 3 4 5 "
     ]
    }
   ],
   "source": [
    "# DFS 예제\n",
    "def dfs(graph, v, visited):\n",
    "    visited[v] = True        # 현재 노드 방문처리\n",
    "    print(v, end= ' ')\n",
    "    for i in graph[v]:\n",
    "        if not visited[i]:   # 현재 노드와 연결된 다른 노드를 재귀적으로 방문\n",
    "            dfs(graph, i ,visited)\n",
    "            \n",
    "graph = [\n",
    "    [],\n",
    "    [2,3,8],\n",
    "    [1,7],\n",
    "    [1,4,5],\n",
    "    [3,5],\n",
    "    [3,4],\n",
    "    [7],\n",
    "    [2,6,8],\n",
    "    [1,7]\n",
    "    \n",
    "]\n",
    "\n",
    "visited = [False] * 9\n",
    "\n",
    "dfs(graph, 1, visited)\n",
    "    "
   ]
  },
  {
   "cell_type": "markdown",
   "id": "95034ddf-39f9-4f4c-8fd7-901f9185a598",
   "metadata": {},
   "source": [
    "#### BFS\n",
    "- 너비 우선 탐색\n",
    "- 가까운 노드부터 탐색하는 알고리즘\n",
    "- 선입선출 방식인 큐를 사용\n",
    "- O(N)의 시간 소요\n",
    "- 실제 수행 시간은 DFS보다 좋은 편\n"
   ]
  },
  {
   "cell_type": "code",
   "execution_count": 9,
   "id": "4eea43f9-c8e8-4510-827b-bf5b43e7f345",
   "metadata": {},
   "outputs": [
    {
     "name": "stdout",
     "output_type": "stream",
     "text": [
      "1 2 7 6 8 3 4 5 "
     ]
    }
   ],
   "source": [
    "# BFS 예제\n",
    "from collections import deque\n",
    "\n",
    "def bfs(graph, start, visited):\n",
    "    queue = deque([start])\n",
    "    visited[start] = True     # 현재 노드 방문 처리\n",
    "    while queue:              # 큐가 빌 때까지 반복\n",
    "        v = queue.popleft()\n",
    "        print(v, end= ' ')\n",
    "        for i  in graph[v]:\n",
    "            if not visited[i]:\n",
    "                queue.append(i)\n",
    "                visited[i] = True\n",
    "\n",
    "graph = [\n",
    "    [],\n",
    "    [2,3,8],\n",
    "    [1,7],\n",
    "    [1,4,5],\n",
    "    [3,5],\n",
    "    [3,4],\n",
    "    [7],\n",
    "    [2,6,8],\n",
    "    [1,7]\n",
    "    \n",
    "]\n",
    "\n",
    "visited = [False] * 9\n",
    "\n",
    "dfs(graph, 1, visited)\n",
    "        "
   ]
  },
  {
   "cell_type": "code",
   "execution_count": 11,
   "id": "1528c4e4-1382-496a-9dca-f22b43b1b0cc",
   "metadata": {},
   "outputs": [
    {
     "name": "stdin",
     "output_type": "stream",
     "text": [
      " 4 5\n",
      " 00110\n",
      " 00011\n",
      " 11111\n",
      " 00000\n"
     ]
    },
    {
     "name": "stdout",
     "output_type": "stream",
     "text": [
      "3\n"
     ]
    }
   ],
   "source": [
    "# 실전 문제 Q1. - 음료수 얼려 먹기 / DFS / 총 아이스크림 개수 구하기\n",
    "n,m = map(int, input().split())\n",
    "\n",
    "graph = []\n",
    "for i in range(n):\n",
    "    graph.append(list(map(int,input())))\n",
    "\n",
    "def dfs(x,y):\n",
    "    if x <= -1 or x >= n or y <= -1 or y >= m:   # 범위 확인\n",
    "        return False\n",
    "    if graph[x][y] == 0:                         # 현재 노드를 아직 방문하지 않았다면\n",
    "        graph[x][y] = 1                          # 해당 노드 방문 처리\n",
    "        dfs(x-1 ,y)                              # 상,하,좌,우 재귀 호출\n",
    "        dfs(x, y-1)\n",
    "        dfs(x+1, y)\n",
    "        dfs(x, y+1)\n",
    "        return True\n",
    "    return False\n",
    "\n",
    "result = 0\n",
    "for i in range(n):\n",
    "    for j in range(m):\n",
    "        if dfs(i,j) == True:                   # 현재 위치에서 DFS 수행\n",
    "            result += 1\n",
    "\n",
    "print(result)\n"
   ]
  },
  {
   "cell_type": "code",
   "execution_count": 14,
   "id": "0e62f454-f578-41c1-b175-fd2a3b569a53",
   "metadata": {},
   "outputs": [
    {
     "name": "stdin",
     "output_type": "stream",
     "text": [
      " 3 3\n",
      " 110\n",
      " 010\n",
      " 011\n"
     ]
    },
    {
     "name": "stdout",
     "output_type": "stream",
     "text": [
      "5\n"
     ]
    }
   ],
   "source": [
    "# 실전 문제 Q2. - 미로 탈출 / 1,1)부터 시작 / BFS 가까운 노드 탐색 / 탈출하기 위해서 움직여야 하는 최소 칸의 개수 구하기\n",
    "from collections import deque\n",
    "\n",
    "n, m = map(int, input().split())\n",
    "\n",
    "graph  = []\n",
    "for _ in range(n):\n",
    "    graph.append(list(map(int, input())))\n",
    "    \n",
    "# 이동할 방향 정의    \n",
    "dx = [-1, 1, 0, 0]\n",
    "dy = [0, 0, -1, 1]\n",
    "\n",
    "def bfs(x, y):\n",
    "    queue = deque()\n",
    "    queue.append((x,y))\n",
    "    while queue:\n",
    "        x,y = queue.popleft()\n",
    "        for i in range(4):     # 현재 위치에서 네 방향으로의 위치 확인\n",
    "            nx = x + dx[i]\n",
    "            ny = y + dy[i]\n",
    "            if nx < 0 or ny < 0 or nx >= n or ny >= m:   # 공간을 벗어난 경우 continue\n",
    "                continue\n",
    "            if graph[nx][ny] == 1:\n",
    "                graph[nx][ny] =  graph[x][y] + 1\n",
    "                queue.append((nx,ny))\n",
    "    return graph[n-1][m-1]\n",
    "print(bfs(0,0))\n",
    "            \n",
    "        \n",
    "    "
   ]
  }
 ],
 "metadata": {
  "kernelspec": {
   "display_name": "Python 3 (ipykernel)",
   "language": "python",
   "name": "python3"
  },
  "language_info": {
   "codemirror_mode": {
    "name": "ipython",
    "version": 3
   },
   "file_extension": ".py",
   "mimetype": "text/x-python",
   "name": "python",
   "nbconvert_exporter": "python",
   "pygments_lexer": "ipython3",
   "version": "3.9.7"
  }
 },
 "nbformat": 4,
 "nbformat_minor": 5
}
