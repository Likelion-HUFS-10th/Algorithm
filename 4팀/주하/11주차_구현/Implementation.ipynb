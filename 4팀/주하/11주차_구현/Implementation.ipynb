{
 "cells": [
  {
   "cell_type": "markdown",
   "id": "3d0970ae-bfad-48e4-81a2-dbacdd9a19c1",
   "metadata": {},
   "source": [
    "## 02. 구현\n",
    "- 머릿속에 있는 알고리즘을 소스코드로 바꾸는 과정\n",
    "- 풀이를 떠올리는 것은 쉽지만 소스코드로 옮기기 어려운 문제\n",
    "- 피지컬을 요구하는 문제\n"
   ]
  },
  {
   "cell_type": "markdown",
   "id": "bd1716e8-3b37-4712-b697-26ac0de84744",
   "metadata": {},
   "source": [
    "#### <구현 유형>\n",
    "- 완전 탐색 : 모든 경우의 수를 주저 없이 다 계산하는 해결 방법\n",
    "- 시뮬레이션 : 문제에서 제시한 알고리즘을 한 단계씩 차례대로 직접 수행해야 하는 문제"
   ]
  },
  {
   "cell_type": "markdown",
   "id": "a13753ab-b8d5-44a2-99f0-350c05d69dd7",
   "metadata": {},
   "source": [
    "#### <구현 시 고려해야 할 메모리 제약 사항>\n",
    "- 파이썬에서 리스트 크기 제약\n",
    "    - 메모리 제한 128~51MB(코테)\n",
    "    - int 자료형 데이터의 개수에 따른 메모리 사용량\n",
    "        - 데이터의 개수(리스트의 길이) \n",
    "        - 1,000 -> 약 4KB\n",
    "        - 1,000,000 -> 약 4MB\n",
    "        - 10,000,000 -> 약 40MB\n",
    "    - 코테 대비와 데이터의 처리량이 많을 때는 꼭 메모리 제한 고려하기   \n",
    "        -> (리스트 여러 개 선언하고, 그중에서 크기가 1,000만 이상인 리스트는 메모리 용량 제한으로 문제 풀 수 없게 되는 경우도 발생)\n",
    "    - 채점 환경 고려 (시간 제한과 데이터의 개수 확인 + 시간 복잡도 이내 문제 풀기)"
   ]
  },
  {
   "cell_type": "markdown",
   "id": "8d617b9f-1abc-4d28-a06f-10caa2146979",
   "metadata": {},
   "source": [
    "### 구현 알고리즘 대표문제 풀기\n",
    "- '상하좌우' 문제\n",
    "- '시각' 문제\n"
   ]
  },
  {
   "cell_type": "code",
   "execution_count": 1,
   "id": "0fc321cd-e370-4d4a-b031-50f5abe4fce8",
   "metadata": {},
   "outputs": [
    {
     "name": "stdin",
     "output_type": "stream",
     "text": [
      " 5\n",
      " R R R U D D\n"
     ]
    },
    {
     "name": "stdout",
     "output_type": "stream",
     "text": [
      "3 4\n"
     ]
    }
   ],
   "source": [
    "#1. 상하좌우 - 내가 푼 답안\n",
    "\n",
    "n = int(input())\n",
    "move = list(input().split())\n",
    "\n",
    "x,y = 1,1\n",
    "for i in range(len(move)):\n",
    "    if move[i] == 'L':\n",
    "        if y != 1:\n",
    "            y -= 1\n",
    "    elif move[i] == 'R':\n",
    "        if y != n:\n",
    "            y += 1\n",
    "    elif move[i] == 'U':\n",
    "        if x != 1:\n",
    "            x -= 1\n",
    "    elif move[i] == 'D':\n",
    "        if x != n:\n",
    "            x += 1\n",
    "\n",
    "print(x,y)\n",
    "\n"
   ]
  },
  {
   "cell_type": "code",
   "execution_count": 3,
   "id": "a6f1fe85-b877-41de-b79f-47faa0cbc1f9",
   "metadata": {},
   "outputs": [
    {
     "name": "stdin",
     "output_type": "stream",
     "text": [
      " 5\n",
      " R R R U D D \n"
     ]
    },
    {
     "name": "stdout",
     "output_type": "stream",
     "text": [
      "3 4\n"
     ]
    }
   ],
   "source": [
    "# 상하좌우 교재 답안 예시\n",
    "\n",
    "n = int(input())\n",
    "x, y = 1, 1\n",
    "plans = input().split()\n",
    "\n",
    "dx = [0, 0, -1, 1]\n",
    "dy = [-1, 1, 0, 0]\n",
    "move_types = ['L', 'R', 'U', 'D']\n",
    "\n",
    "for plan in plans:\n",
    "    for i in range(len(move_types)):\n",
    "        if plan == move_types[i]:\n",
    "            nx = x + dx[i]\n",
    "            ny = y + dy[i]\n",
    "    if nx < 1 or ny < 1 or nx > n or ny > n:\n",
    "        continue\n",
    "    x, y = nx, ny\n",
    "        \n",
    "print(x, y)"
   ]
  },
  {
   "cell_type": "code",
   "execution_count": 4,
   "id": "771221d5-2d5a-4e67-9478-8c07b61668e9",
   "metadata": {},
   "outputs": [
    {
     "name": "stdin",
     "output_type": "stream",
     "text": [
      " 5\n"
     ]
    },
    {
     "name": "stdout",
     "output_type": "stream",
     "text": [
      "11475\n"
     ]
    }
   ],
   "source": [
    "#2. 시각 - 내가 푼 답안 & 교재 답안\n",
    "\n",
    "n = int(input())\n",
    "\n",
    "cnt = 0\n",
    "\n",
    "for i in range(n+1):\n",
    "    for j in range(60):\n",
    "        for k in range(60):\n",
    "            if ('3' in str(i)) or ('3' in str(j)) or ('3' in str(k)):    # if '3' in str(i) + str(j) +str(k)\n",
    "                cnt += 1\n",
    "\n",
    "print(cnt)\n"
   ]
  },
  {
   "cell_type": "code",
   "execution_count": 1,
   "id": "55b15f3b-5e65-4101-9c48-8d07f7762036",
   "metadata": {},
   "outputs": [
    {
     "name": "stdin",
     "output_type": "stream",
     "text": [
      " a1\n"
     ]
    },
    {
     "name": "stdout",
     "output_type": "stream",
     "text": [
      "2\n"
     ]
    }
   ],
   "source": [
    "# 실전 문제 2. 왕실의 나이트 - 내가 푼 답안 + 교재 답안 예시\n",
    "\n",
    "pos = input()\n",
    "row = int(pos[1])\n",
    "col = ord(pos[0]) - ord('a') + 1\n",
    "\n",
    "cases = [(-2,-1),(-1,-2),(1,-2),(2,-1),(2,1),(1,2),(-1,2),(-2,1)]\n",
    "\n",
    "count = 0\n",
    "for case in cases :\n",
    "    next_r = row + case[0]\n",
    "    next_c = col + case[1]\n",
    "\n",
    "    if next_r>=1 and next_r<=8 and next_c>=1 and next_c<=8 :\n",
    "        count = count + 1\n",
    "\n",
    "print(count)\n",
    "\n"
   ]
  },
  {
   "cell_type": "code",
   "execution_count": 3,
   "id": "3731616b-f162-40c2-83cc-471961fcbed4",
   "metadata": {},
   "outputs": [
    {
     "name": "stdin",
     "output_type": "stream",
     "text": [
      " 4 4 \n",
      " 1 1 0\n",
      " 1 1 1 1\n",
      " 1 0 0 1\n",
      " 1 1 0 1\n",
      " 1 1 1 1 \n"
     ]
    },
    {
     "name": "stdout",
     "output_type": "stream",
     "text": [
      "3\n"
     ]
    }
   ],
   "source": [
    "# 실전 문제 3. 게임 개발 - 내가 푼 답안... 모르겠음\n",
    "\n",
    "n,m = map(int,input().split())\n",
    "a, b, d = map(int,input().split())\n",
    "direction = [0,1,2,3]\n",
    "\n",
    "da = [0, -1, 0, 1]\n",
    "dy = [-1, 0, 1, 0]\n",
    "\n",
    "count = 1\n",
    "state = []\n",
    "\n",
    "for _ in range (n):\n",
    "    total_list = list(map(int,input().split()))\n",
    "    state.append(total_list)\n",
    "\n",
    "state[a][b] =  1  # 가본 칸 바다로\n",
    "count += 1\n",
    "\n",
    "while True:\n",
    "    for i in range (4):\n",
    "        moveA = a + da[d]\n",
    "        moveB = b + dy[d]\n",
    "\n",
    "        if state[a][b] != 0:\n",
    "            d = direction[direction.index(d)-1]\n",
    "        else:\n",
    "            d = direction[direction.index(d)-1]\n",
    "            a = moveA\n",
    "            b = moveB\n",
    "            state[a][b] = 1\n",
    "            count += 1\n",
    "    moveA = a - da[d]\n",
    "    moveB = b - dy[d]\n",
    "\n",
    "    if state[moveA][moveB] == 0:\n",
    "        a, b = moveA, moveB\n",
    "        state[a][b] = 1\n",
    "        count += 1\n",
    "    else:\n",
    "        break\n",
    "\n",
    "print(count)"
   ]
  }
 ],
 "metadata": {
  "kernelspec": {
   "display_name": "Python 3 (ipykernel)",
   "language": "python",
   "name": "python3"
  },
  "language_info": {
   "codemirror_mode": {
    "name": "ipython",
    "version": 3
   },
   "file_extension": ".py",
   "mimetype": "text/x-python",
   "name": "python",
   "nbconvert_exporter": "python",
   "pygments_lexer": "ipython3",
   "version": "3.9.7"
  }
 },
 "nbformat": 4,
 "nbformat_minor": 5
}
