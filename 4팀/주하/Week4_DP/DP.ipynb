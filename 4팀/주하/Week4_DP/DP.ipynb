{
 "cells": [
  {
   "cell_type": "markdown",
   "id": "ce1d2513-3019-4774-9a6a-479b2d462024",
   "metadata": {},
   "source": [
    "### 다이나믹 프로그래밍\n",
    "- 동적 계획법\n",
    "- 중복되는 연산 줄이기\n",
    "- 대표적인 예시 -> 피보나치 수열 -> 배열과 리스트로 표현  (효율적 x)\n",
    "- DP사용 조건\n",
    "    - 1. 큰 문제를 작은 문제로 나눌 수 있다.\n",
    "    - 2. 작은 문제에서 구한 정답은 그것을 포함하는 큰 문제에서도 동일하다.\n",
    " - 메모이제이션 기법을 사용해서 해결 -> 캐싱이라고도 함 -> 결과를 저장해 놓았다가 나중에 동일한 문제를 풀 때 저장한 값 반환\n",
    " - 다이나믹 프로그래밍은 한 번 해결했던 문제를 다시금 해결함 -> 재귀함수 대신 반복문을 통해 오버헤드를 줄일 수 있음\n"
   ]
  },
  {
   "cell_type": "code",
   "execution_count": 1,
   "id": "d50d258f-cc94-4dee-b43d-4d897ab9bec3",
   "metadata": {},
   "outputs": [
    {
     "name": "stdout",
     "output_type": "stream",
     "text": [
      "3\n"
     ]
    }
   ],
   "source": [
    "# 피보나치 함수 \n",
    "def fibo(x):\n",
    "    if x == 1 or x == 2:\n",
    "        return 1\n",
    "    return fibo(x-1) + fibo(x-2)\n",
    "print(fibo(4))"
   ]
  },
  {
   "cell_type": "code",
   "execution_count": 2,
   "id": "5288530d-afc0-488a-bac1-5a8676169afa",
   "metadata": {},
   "outputs": [
    {
     "name": "stdout",
     "output_type": "stream",
     "text": [
      "218922995834555169026\n"
     ]
    }
   ],
   "source": [
    "# 피보나치 수열 (메모이제이션 활용) - 재귀적\n",
    "\n",
    "d = [0] * 100\n",
    "\n",
    "def fibo(x):\n",
    "    if x == 1 or x == 2:\n",
    "        return 1\n",
    "    if d[x] != 0:\n",
    "        return d[x]\n",
    "    d[x] = fibo(x-1) + fibo(x-2)\n",
    "    return d[x]\n",
    "\n",
    "print(fibo(99))"
   ]
  },
  {
   "cell_type": "code",
   "execution_count": 3,
   "id": "d97c6356-479e-499f-a2ee-38a10ec3b1f0",
   "metadata": {},
   "outputs": [
    {
     "name": "stdout",
     "output_type": "stream",
     "text": [
      "f(6)f(5)f(4)f(3)f(2)f(1)f(2)f(3)f(4)"
     ]
    },
    {
     "data": {
      "text/plain": [
       "8"
      ]
     },
     "execution_count": 3,
     "metadata": {},
     "output_type": "execute_result"
    }
   ],
   "source": [
    "# 호출되는 함수 확인해보기\n",
    "d = [0] * 100\n",
    "\n",
    "def fibo(x):\n",
    "    print('f('+ str(x) +')',end='')\n",
    "    if x == 1 or x == 2:\n",
    "        return 1\n",
    "    if d[x] != 0:\n",
    "        return d[x]\n",
    "    d[x] = fibo(x-1) + fibo(x-2)\n",
    "    return d[x]\n",
    "\n",
    "fibo(6)"
   ]
  },
  {
   "cell_type": "markdown",
   "id": "1795061e-07c3-4138-aef8-adde37939102",
   "metadata": {},
   "source": [
    "- 재귀함수를 이용해서 소스코드를 작성하는 방법\n",
    "    - 큰 문제를 해결하기 위해 작은 문제 호출 -> 탑다운 방식 (메모이제이션 : 하향식)\n",
    "- 반복문을 이용하여 소스코드를 작성하는 경우\n",
    "    - 작은 문제부터 차근차근 답 도출 -> 보텀업 방식 (상향식) -> 권장\n",
    "- DP는 주로 보텀업 방식 사용 -> DP 테이블(결과 저장용 리스트)\n",
    "- 메모이제이션은 때에 따라서 사전 자료형을 이용할 수도 있음\n",
    "- 큰 피보나치 수 구할 때 -> sys 라이브러리에 포함되어 있는 setrecursionlimit()함수를 호출하여 재귀 제한을 완화할 수 있다\n"
   ]
  },
  {
   "cell_type": "code",
   "execution_count": 9,
   "id": "9ee981fa-dbe1-4e63-808e-d7743efbd466",
   "metadata": {},
   "outputs": [
    {
     "name": "stdout",
     "output_type": "stream",
     "text": [
      "218922995834555169026\n"
     ]
    }
   ],
   "source": [
    "# 피보나치 수열 - 반복적\n",
    "\n",
    "d = [0] * 100    # 계산된 결과를 저장하기 위한 DP 테이블 초기화\n",
    "d[1] = 1\n",
    "d[2] = 1\n",
    "n = 99\n",
    "\n",
    "for i in range(3, n + 1):\n",
    "    d[i] = d[i-1] + d[i-2]\n",
    "\n",
    "\n",
    "print(d[n])"
   ]
  },
  {
   "cell_type": "code",
   "execution_count": 16,
   "id": "a4bfe6df-ac94-4aa1-80ec-b1af662ae106",
   "metadata": {},
   "outputs": [
    {
     "name": "stdin",
     "output_type": "stream",
     "text": [
      " 26\n"
     ]
    },
    {
     "name": "stdout",
     "output_type": "stream",
     "text": [
      "3\n"
     ]
    }
   ],
   "source": [
    "# 실전문제 2. 1로 만들기\n",
    "\n",
    "x = int(input())\n",
    "\n",
    "d = [0] * 30001\n",
    "\n",
    "for i in range(2, x+1):\n",
    "    d[i] = d[i-1] + 1     #현재의 수에서 1을 빼는 경우\n",
    "    if i % 2 == 0:\n",
    "        d[i] = min(d[i], d[i//2] + 1)\n",
    "    if i % 3 == 0:\n",
    "        d[i] == min(d[i], d[i//3] + 1)\n",
    "    if i % 5 == 0:\n",
    "        d[i] = min(d[i], d[i//5] + 1)\n",
    "\n",
    "print(d[x])"
   ]
  },
  {
   "cell_type": "code",
   "execution_count": 19,
   "id": "1a864e01-a1e8-4df4-a0de-797be6f5009a",
   "metadata": {},
   "outputs": [
    {
     "name": "stdin",
     "output_type": "stream",
     "text": [
      " 4 \n",
      " 1 3 1 5\n"
     ]
    },
    {
     "name": "stdout",
     "output_type": "stream",
     "text": [
      "8\n"
     ]
    }
   ],
   "source": [
    "# 실전문제 3. 개미전사\n",
    "n = int(input())\n",
    "food = list(map(int, input().split()))\n",
    "\n",
    "d = [0] * 100\n",
    "d[0] = food[0]\n",
    "d[1] = max(food[0],food[1])\n",
    "\n",
    "for i in range(2, n): \n",
    "    d[i] = max(d[i-1], d[i-2] + food[i])\n",
    "    \n",
    "print(d[n-1])\n"
   ]
  },
  {
   "cell_type": "code",
   "execution_count": 20,
   "id": "4f051068-5efe-4e94-8119-8d3b99080790",
   "metadata": {},
   "outputs": [
    {
     "name": "stdin",
     "output_type": "stream",
     "text": [
      " 3\n"
     ]
    },
    {
     "name": "stdout",
     "output_type": "stream",
     "text": [
      "5\n"
     ]
    }
   ],
   "source": [
    "# 실전문제 4. 바닥 공사\n",
    "\n",
    "n = int(input())\n",
    "\n",
    "d = [0] * 1001\n",
    "\n",
    "# i-1까지 채워져 있으면 2x1 덮개 채우는 경우 하나 / i-2까지 채워져 있으면 1x2 덮개 두 개로 채우는 경우 하나와 2x2 덮개로 채우는 경우 하나 = 총 두 가지\n",
    "# a[i] = a[i-1]+a[i-2]*2\n",
    "d[1] = 1\n",
    "d[2] = 3\n",
    "\n",
    "for i in range(3, n+1):\n",
    "    d[i] = (d[i-1] + d[i-2] * 2 % 796796)\n",
    "    \n",
    "print(d[n])\n"
   ]
  },
  {
   "cell_type": "code",
   "execution_count": 23,
   "id": "124e3f25-3e92-4fdd-92a5-486b04899ee6",
   "metadata": {},
   "outputs": [
    {
     "name": "stdin",
     "output_type": "stream",
     "text": [
      " 2 15\n",
      " 2\n",
      " 3\n"
     ]
    },
    {
     "name": "stdout",
     "output_type": "stream",
     "text": [
      "5\n"
     ]
    }
   ],
   "source": [
    "##### 실전문제 5. 효율적인 화폐 구성\n",
    "\n",
    "# 점화식 : min(d[j], d[j - arr[i]] + 1)\n",
    "\n",
    "n,m = map(int, input().split())\n",
    "\n",
    "d = [10001] * (m + 1)\n",
    "\n",
    "val = [int(input()) for _ in range(n)]\n",
    "\n",
    "d[0] = 0\n",
    "\n",
    "for i in range(n):\n",
    "    for j in range(val[i], m+1):\n",
    "        # if d[j-val[i]] != 10001:\n",
    "        d[j] = min(d[j], d[j - val[i]] + 1)\n",
    "\n",
    "if d[m] == 10001:\n",
    "    print(-1)\n",
    "else:\n",
    "    print(d[m])\n"
   ]
  }
 ],
 "metadata": {
  "kernelspec": {
   "display_name": "Python 3 (ipykernel)",
   "language": "python",
   "name": "python3"
  },
  "language_info": {
   "codemirror_mode": {
    "name": "ipython",
    "version": 3
   },
   "file_extension": ".py",
   "mimetype": "text/x-python",
   "name": "python",
   "nbconvert_exporter": "python",
   "pygments_lexer": "ipython3",
   "version": "3.9.7"
  }
 },
 "nbformat": 4,
 "nbformat_minor": 5
}
