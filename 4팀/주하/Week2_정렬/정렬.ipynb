{
 "cells": [
  {
   "cell_type": "markdown",
   "id": "151f1a2a-3f8b-4334-a77b-6b71d68c61ca",
   "metadata": {},
   "source": [
    "### <정렬>\n",
    "- 데이터를 특정한 기준에 따라서 순서대로 나열\n",
    "- 선택 정렬, 삽입 정렬, 퀵 정렬, 계수 정렬"
   ]
  },
  {
   "cell_type": "markdown",
   "id": "335569f7-5772-45c7-959c-edf29c955353",
   "metadata": {},
   "source": [
    "#### 1. 선택 정렬\n",
    "- 무작위 데이터가 있을 때, 이 중에서 가장 작은 데이터를 선택해 맨 앞에 있는 데이터와 바꾸고, 그다음 작은 데이터를 선택해 앞에서 두 번째 데이터와 바꾸는 과정 반복하기\n",
    "- 가장 작은 것 선택 -> 선택 정렬\n",
    "- N-1번 만큼 가장 작은 수를 찾아서 맨 앞으로 보내야 함"
   ]
  },
  {
   "cell_type": "code",
   "execution_count": 1,
   "id": "d855940f-f189-4826-a3ce-1621711c500c",
   "metadata": {},
   "outputs": [
    {
     "name": "stdout",
     "output_type": "stream",
     "text": [
      "[0, 1, 2, 3, 4, 5, 6, 7, 8, 9]\n"
     ]
    }
   ],
   "source": [
    "# 6-1. 선택 정렬\n",
    "\n",
    "arr = [7, 5, 9, 0, 3, 1, 6, 2, 4, 8]\n",
    "\n",
    "for i in range(len(arr)):\n",
    "    min_index = i                                      # 가장 작은 원소의 인덱스\n",
    "    for j in range(i + 1, len(arr)):\n",
    "        if arr[min_index] > arr[j]:\n",
    "               min_index = j\n",
    "    arr[i], arr[min_index] = arr[min_index], arr[i]    # 체인지\n",
    "    \n",
    "print(arr)"
   ]
  },
  {
   "cell_type": "code",
   "execution_count": 2,
   "id": "1c43bb38-b203-41af-93df-73964f589897",
   "metadata": {},
   "outputs": [
    {
     "name": "stdout",
     "output_type": "stream",
     "text": [
      "[5, 3]\n"
     ]
    }
   ],
   "source": [
    "# 6-2. 파이썬 스와프 \n",
    "\n",
    "arr = [3, 5]\n",
    "arr[0], arr[1] = arr[1], arr[0]\n",
    "\n",
    "print(arr)"
   ]
  },
  {
   "cell_type": "markdown",
   "id": "9e12d6fa-bc62-42a9-b219-706e93c1a9b4",
   "metadata": {},
   "source": [
    "#### 2. 삽입 정렬\n",
    "- 데이터가 정렬 거의 정렬되어 있을 때 사용해야 효율적임\n",
    "- 특정한 데이터를 적절한 위치에 삽입 -> 그 앞까지의 데이터는 이미 정렬되어 있다고 가정\n",
    "- 현재 리스트의 데이터가 거의 정렬되어 있는 상태라면 매우 빠르게 동작한다"
   ]
  },
  {
   "cell_type": "code",
   "execution_count": 3,
   "id": "8b65976b-ba5b-479f-8041-536ac4f7d75d",
   "metadata": {},
   "outputs": [
    {
     "name": "stdout",
     "output_type": "stream",
     "text": [
      "[0, 1, 2, 3, 4, 5, 6, 7, 8, 9]\n"
     ]
    }
   ],
   "source": [
    "# 6-3. 삽입 정렬\n",
    "\n",
    "arr = [7, 5, 9, 0, 3, 1, 6, 2, 4, 8]\n",
    "\n",
    "for i in range(1, len(arr)):\n",
    "    for j in range(i, 0, -1):                          # 인덱스 i부터 1까지 감소하며 반복\n",
    "        if arr[j] < arr[j-1]:                          # 한 칸씩 왼쪽으로 이동\n",
    "            arr[j],arr[j-1] = arr[j-1], arr[j]         # 자기보다 작은 데이터 만나면 거기서 멈춤\n",
    "        else:\n",
    "            break\n",
    "\n",
    "print(arr)\n"
   ]
  },
  {
   "cell_type": "markdown",
   "id": "2fea7c11-8dd3-4ba1-86dd-d6f6a6f01378",
   "metadata": {},
   "source": [
    "#### 3. 퀵 정렬\n",
    "- 가장 많이 사용되는 알고리즘\n",
    "- 기준 데이터 설정 -> 큰 데이터와 작은 데이터 교환 -> 리스트 반으로 나눈다 -> 다시 오른쪽 리스트와 왼쪽 리스트에서 각각 정렬 수행\n",
    "- 교환 기준인 '피벗'이 사용됨\n",
    "- 피벗을 어떻게 설정할 것인가?\n",
    "    - 리스트에서 첫 번째 데이터를 피벗으로 정한다\n",
    "- 재귀함수로 작성했을 때 구현이 매우 간결해짐\n",
    "    - 종료 조건: 리스트의 데이터 개수가 1개인 경우\n",
    "- 퀵 정렬은 비교 연산횟수가 증가하므로 시간 면에서는 조금 비효율적\n",
    "- 데이터가 이미 정렬 되어 있는 경우 매우 느리게 동작"
   ]
  },
  {
   "cell_type": "code",
   "execution_count": 9,
   "id": "7564ca9a-2369-4612-ba01-90c90705c3a6",
   "metadata": {},
   "outputs": [
    {
     "name": "stdout",
     "output_type": "stream",
     "text": [
      "[0, 1, 2, 3, 4, 5, 6, 7, 8, 9]\n"
     ]
    }
   ],
   "source": [
    "# 6-4. 퀵 정렬\n",
    "\n",
    "arr = [5, 7, 9, 0, 3, 1, 6, 2, 4, 8]\n",
    "\n",
    "def quick_sort(arr, start, end):\n",
    "    if start >= end:                  # 원소가 1개인 경우 종료\n",
    "        return\n",
    "    pivot = start\n",
    "    left = start + 1\n",
    "    right = end\n",
    "    while left <= right:              \n",
    "        while left <= end and arr[left] <= arr[pivot]: # 피벗보다 큰 데이터를 찾을 때까지 반복\n",
    "            left += 1\n",
    "        while right > start and arr[right] >= arr[pivot]: # 피벗보다 작은 데이터를 찾을 때까지 반복\n",
    "            right -= 1\n",
    "        if left > right:            \n",
    "            arr[right], arr[pivot] = arr[pivot], arr[right]\n",
    "        else:\n",
    "            arr[left], arr[right] = arr[right], arr[left]\n",
    "        \n",
    "    quick_sort(arr, start, right - 1)\n",
    "    quick_sort(arr, right+1, end)      # 분할 후 왼쪽,오른쪽 각 부분에서 정렬 수행    \n",
    "    \n",
    "quick_sort(arr, 0, len(arr)-1)\n",
    "print(arr)"
   ]
  },
  {
   "cell_type": "code",
   "execution_count": 12,
   "id": "def0e7f8-8571-4cd7-acee-dd4a50f38114",
   "metadata": {},
   "outputs": [
    {
     "name": "stdout",
     "output_type": "stream",
     "text": [
      "[0, 1, 2, 3, 4, 5, 6, 7, 8, 9]\n"
     ]
    }
   ],
   "source": [
    "# 6-5. 파이썬 장점 살린 퀵 정렬\n",
    "\n",
    "arr = [5,7,9,0,3,1,6,2,4,8]\n",
    "\n",
    "def quick_sort(arr):\n",
    "    if len(arr) <= 1 :\n",
    "        return arr\n",
    "    \n",
    "    pivot = arr[0]   # 피벗\n",
    "    tail = arr[1:]   # 피벗을 제외한 리스트\n",
    "    \n",
    "    left = [x for x in tail if x <= pivot]  #분할된 왼쪽 부분\n",
    "    right = [x for x in tail if x > pivot]  #분할된 오른쪽 부분\n",
    "    \n",
    "    return quick_sort(left) + [pivot] + quick_sort(right) # 각 부분에서 정렬 후 전체 리스트 반환\n",
    "\n",
    "print(quick_sort(arr))"
   ]
  },
  {
   "cell_type": "markdown",
   "id": "62338516-e7d4-4461-991e-4c382259939f",
   "metadata": {},
   "source": [
    "#### 4. 계수 정렬\n",
    "- 특정한 조건이 부합할 때만 사용할 수 있지만 매우 빠른 정렬 알고리즘\n",
    "- 데이터의 크기 범위가 제한되어 정수 형태로 표현할 수 있을 때만 사용가능"
   ]
  },
  {
   "cell_type": "code",
   "execution_count": 13,
   "id": "68c61a07-ada7-433c-a380-ebe88698f2a4",
   "metadata": {},
   "outputs": [
    {
     "name": "stdout",
     "output_type": "stream",
     "text": [
      "0 0 1 1 2 2 3 4 5 5 6 7 8 9 9 "
     ]
    }
   ],
   "source": [
    "# 6-6. 계수정렬\n",
    "\n",
    "arr = [7,5,9,0,3,1,6,2,9,1,4,8,0,5,2]\n",
    "count=[0]*(max(arr)+1)\n",
    "\n",
    "for i in range(len(arr)):\n",
    "    count[arr[i]]+=1\n",
    "    \n",
    "for i in range(len(count)):\n",
    "    for j in range(count[i]):\n",
    "        print(i, end=' ')"
   ]
  },
  {
   "cell_type": "markdown",
   "id": "1285089c-bf38-422d-abff-366935c00f67",
   "metadata": {},
   "source": [
    "#### 5. 파이썬의 정렬 라이브러리\n",
    "- sorted() 함수"
   ]
  },
  {
   "cell_type": "code",
   "execution_count": 14,
   "id": "38c93bb9-1dbb-4245-ac66-f6484c5a349a",
   "metadata": {},
   "outputs": [
    {
     "name": "stdout",
     "output_type": "stream",
     "text": [
      "[0, 1, 2, 3, 4, 5, 6, 7, 8, 9]\n"
     ]
    }
   ],
   "source": [
    "# 6-7. sorted\n",
    "arr = [7,5,9,0,3,1,6,2,4,8]\n",
    "\n",
    "result = sorted(arr)\n",
    "print(result)"
   ]
  },
  {
   "cell_type": "code",
   "execution_count": 20,
   "id": "7a04bbd8-7639-47b5-8894-ba23f1a792a4",
   "metadata": {},
   "outputs": [
    {
     "name": "stdin",
     "output_type": "stream",
     "text": [
      " 3 \n",
      " 15\n",
      " 27\n",
      " 12\n"
     ]
    },
    {
     "name": "stdout",
     "output_type": "stream",
     "text": [
      "27 15 12 "
     ]
    }
   ],
   "source": [
    "# 실전문제2. 위에서 아래로\n",
    "n = int(input())\n",
    "arr = [int(input()) for _ in range(n)]\n",
    "\n",
    "res = sorted(arr, reverse =True)\n",
    "\n",
    "for i in res:\n",
    "    print(i, end= ' ')\n"
   ]
  },
  {
   "cell_type": "code",
   "execution_count": 37,
   "id": "6758ee19-5610-46db-96f3-03bdfc85f1de",
   "metadata": {},
   "outputs": [
    {
     "name": "stdin",
     "output_type": "stream",
     "text": [
      " 2\n",
      " 홍씨 90\n",
      " 이씨 77\n"
     ]
    },
    {
     "name": "stdout",
     "output_type": "stream",
     "text": [
      "이씨 홍씨 "
     ]
    }
   ],
   "source": [
    "# 실전문제3. 성적이 낮은 순서로 학생 출력\n",
    "n = int(input())\n",
    "\n",
    "arr = []\n",
    "for _ in range(n):\n",
    "    name,score = input().split()\n",
    "    arr.append((name,int(score)))\n",
    "\n",
    "result = sorted(arr, key=lambda x:x[1])\n",
    "for i in result:\n",
    "    print(i[0], end= ' ')\n"
   ]
  },
  {
   "cell_type": "code",
   "execution_count": 39,
   "id": "2cd6c19a-4744-4e6a-9395-94a00c5e0cb0",
   "metadata": {},
   "outputs": [
    {
     "name": "stdin",
     "output_type": "stream",
     "text": [
      " 5 3\n",
      " 1 2 5 4 3\n",
      " 5 5 6 6 5\n"
     ]
    },
    {
     "name": "stdout",
     "output_type": "stream",
     "text": [
      "26\n"
     ]
    }
   ],
   "source": [
    "# 실전문제4. 두 배열의 원소 교체\n",
    "n,k = map(int,input().split())\n",
    "\n",
    "a = list(map(int,input().split()))\n",
    "b = list(map(int,input().split()))\n",
    "\n",
    "a.sort()\n",
    "b.sort(reverse=True)\n",
    "\n",
    "for i in range(k):\n",
    "    if a[i]<b[i]:\n",
    "        a[i],b[i] = b[i],a[i]\n",
    "    else:\n",
    "        break\n",
    "print(sum(a))\n",
    "        "
   ]
  },
  {
   "cell_type": "code",
   "execution_count": null,
   "id": "d1390b8a-bf29-4c29-945f-96b99c943afd",
   "metadata": {},
   "outputs": [],
   "source": []
  }
 ],
 "metadata": {
  "kernelspec": {
   "display_name": "Python 3 (ipykernel)",
   "language": "python",
   "name": "python3"
  },
  "language_info": {
   "codemirror_mode": {
    "name": "ipython",
    "version": 3
   },
   "file_extension": ".py",
   "mimetype": "text/x-python",
   "name": "python",
   "nbconvert_exporter": "python",
   "pygments_lexer": "ipython3",
   "version": "3.9.7"
  }
 },
 "nbformat": 4,
 "nbformat_minor": 5
}
