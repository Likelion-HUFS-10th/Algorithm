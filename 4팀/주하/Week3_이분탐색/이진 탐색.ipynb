{
 "cells": [
  {
   "cell_type": "markdown",
   "id": "569d93ef-b745-40a1-8b24-57fe1670075b",
   "metadata": {},
   "source": [
    "### <이진 탐색>"
   ]
  },
  {
   "cell_type": "markdown",
   "id": "f67f380b-d3a0-44cc-9724-237a9fd68b90",
   "metadata": {},
   "source": [
    "#### 순차 탐색\n",
    "- 리스트 안에 있는 특정한 데이터를 찾기 위해 앞에서부터 데이터를 하나씩 차례대로 확인하는 방법\n",
    "- count() 메서드를 이용할 때도 내부에서는 순차 탐색이 수행됨\n",
    "- 정렬 여부와 상관없이 가장 앞에 있는 원소부터 하나씩 확인\n",
    "- 데이터 개수가 n일때 n번의 비교 연산 필요"
   ]
  },
  {
   "cell_type": "code",
   "execution_count": 2,
   "id": "1fa4ba80-f38b-452b-98a0-9349987109af",
   "metadata": {},
   "outputs": [
    {
     "name": "stdout",
     "output_type": "stream",
     "text": [
      "생성 원소 개수와 찾을 문자열 입력\n"
     ]
    },
    {
     "name": "stdin",
     "output_type": "stream",
     "text": [
      " 5 juha\n"
     ]
    },
    {
     "name": "stdout",
     "output_type": "stream",
     "text": [
      "앞서 적은 원소 개수만큼의 문자열 입력\n"
     ]
    },
    {
     "name": "stdin",
     "output_type": "stream",
     "text": [
      " Hi my name is juha\n"
     ]
    },
    {
     "name": "stdout",
     "output_type": "stream",
     "text": [
      "5\n"
     ]
    }
   ],
   "source": [
    "# 순차 탐색\n",
    "\n",
    "def search(n, target, array):\n",
    "    for i in range(n):\n",
    "        if array[i] == target:\n",
    "            return i+1\n",
    "print(\"생성 원소 개수와 찾을 문자열 입력\")\n",
    "input_data = input().split()\n",
    "n = int(input_data[0])      # 원소 개수\n",
    "target = input_data[1]      # 찾고자 하는 문자열\n",
    "\n",
    "print(\"앞서 적은 원소 개수만큼의 문자열 입력\")\n",
    "array = input().split()\n",
    "print(search(n, target, array))"
   ]
  },
  {
   "cell_type": "markdown",
   "id": "81b70adb-e0be-427a-a9c3-d29404edb927",
   "metadata": {},
   "source": [
    "#### 이진탐색: 반으로 쪼개면서 탐색하기\n",
    "- 내부 데이터 정렬되어 있어야만 사용할 수 있는 알고리즘 -> 데이터가 무작위일 때는 사용할 수 x\n",
    "- 탐색 범위를 절반씩 좁혀가며 데이터 탐색\n",
    "- 변수 3개 사용 -> 시작점, 끝점, 중간점 -> 찾으려는 데이터와 중간점 위치에 있는 데이터를 반복적으로 비교\n",
    "- 절반씩 데이터를 줄어들도록 만든다는 점에서 퀵정렬과 비슷\n",
    "- 이진 탐색 구현 방법\n",
    "    - 1. 재귀함수\n",
    "    - 2. 단순 반복문\n",
    "- \n"
   ]
  },
  {
   "cell_type": "code",
   "execution_count": 3,
   "id": "ecd5fa0a-f243-44c7-878c-40db80611f75",
   "metadata": {},
   "outputs": [
    {
     "name": "stdin",
     "output_type": "stream",
     "text": [
      " 10 7 \n",
      " 1 3 5 7 9 11 13 15 19\n"
     ]
    },
    {
     "name": "stdout",
     "output_type": "stream",
     "text": [
      "4\n"
     ]
    }
   ],
   "source": [
    "# 재귀 함수로 구현한 이진 탐색\n",
    "def search(arr, target, start, end):\n",
    "    if start > end:\n",
    "        return None\n",
    "    mid = (start + end) // 2\n",
    "    if arr[mid] == target:\n",
    "        return mid\n",
    "    elif arr[mid] > target:\n",
    "        return search(arr, target, start, mid-1)\n",
    "    else:\n",
    "        return search(arr, target, mid+1 , end)\n",
    "\n",
    "n, target = list(map(int,input().split()))\n",
    "arr = list(map(int, input().split()))\n",
    "\n",
    "result = search(arr, target, 0, n-1)\n",
    "if result == None:\n",
    "    print(\"원소가 존재하지 x\")\n",
    "else:\n",
    "    print(result + 1)"
   ]
  },
  {
   "cell_type": "code",
   "execution_count": null,
   "id": "7a9a5619-a582-4170-895d-02e50df464bd",
   "metadata": {},
   "outputs": [],
   "source": [
    "# 반복문으로 구현한 이진 탐색\n",
    "def search(arr, target, start, end):\n",
    "    while start <= end:\n",
    "        mid = (start+end)//2\n",
    "        if arr[mid] == target:\n",
    "            return mid\n",
    "        elif arr[mid] > target:\n",
    "            end = mid - 1\n",
    "        else:\n",
    "            start = mid + 1\n",
    "    return None\n",
    "\n",
    "n, target = list(map(int,input().split()))\n",
    "arr = list(map(int,input().split()))\n",
    "\n",
    "result - search(arr, target, 0, n-1)\n",
    "if result == None:\n",
    "    print(\"원소 존재 x\")\n",
    "else:\n",
    "    print(result+1)\n"
   ]
  },
  {
   "cell_type": "code",
   "execution_count": 12,
   "id": "d2e01410-a618-4708-962e-f586c2714cc0",
   "metadata": {},
   "outputs": [
    {
     "name": "stdin",
     "output_type": "stream",
     "text": [
      " 5\n",
      " 8 3 7 9 2\n",
      " 3 \n",
      " 5 7 9\n"
     ]
    },
    {
     "name": "stdout",
     "output_type": "stream",
     "text": [
      "no yes yes "
     ]
    }
   ],
   "source": [
    "# 실전문제 2. 부품 찾기\n",
    "n = int(input())\n",
    "store = list(map(int,input().split()))\n",
    "m = int(input())\n",
    "customer = list(map(int,input().split()))\n",
    "\n",
    "for i in customer:\n",
    "    if i in store:\n",
    "        print(\"yes\", end= \" \")\n",
    "    else:\n",
    "        print(\"no\", end= \" \" )"
   ]
  },
  {
   "cell_type": "code",
   "execution_count": 14,
   "id": "9a28663f-65c0-417e-b00f-2d6ccd07bd96",
   "metadata": {},
   "outputs": [
    {
     "name": "stdin",
     "output_type": "stream",
     "text": [
      " 5\n",
      " 8 3 7 9 2\n",
      " 3\n",
      " 5 7 9\n"
     ]
    },
    {
     "name": "stdout",
     "output_type": "stream",
     "text": [
      "no yes yes "
     ]
    }
   ],
   "source": [
    "def search(arr, target, start, end):\n",
    "    while start <= end:\n",
    "        mid = (start+end) // 2\n",
    "        if arr[mid] == target:\n",
    "            return mid\n",
    "        elif arr[mid] < target:\n",
    "            return search(arr, target, mid+1, end)\n",
    "        else:\n",
    "            return search(arr, target, start, mid-1)\n",
    "        \n",
    "n = int(input())\n",
    "store = list(map(int,input().split()))\n",
    "m = int(input())\n",
    "customer = list(map(int,input().split()))\n",
    "\n",
    "for i in customer:\n",
    "    result = search(store, i, 0, n-1)\n",
    "    if result != None:\n",
    "        print(\"yes\", end= \" \")\n",
    "    else:\n",
    "        print(\"no\", end= \" \")\n"
   ]
  },
  {
   "cell_type": "code",
   "execution_count": 15,
   "id": "390b1da4-7834-49e9-9b22-84bcbb7381c7",
   "metadata": {},
   "outputs": [
    {
     "name": "stdin",
     "output_type": "stream",
     "text": [
      " 4 6\n",
      " 19 15 10 17\n"
     ]
    },
    {
     "name": "stdout",
     "output_type": "stream",
     "text": [
      "15\n"
     ]
    }
   ],
   "source": [
    "# 실전문제3. 떡볶이 떡 만들기\n",
    "\n",
    "n,m = list(map(int,input().split()))\n",
    "arr = list(map(int,input().split()))\n",
    "\n",
    "start = 0\n",
    "end = max(arr)\n",
    "\n",
    "result = 0\n",
    "while(start <= end):\n",
    "    total = 0\n",
    "    mid = (start + end) // 2\n",
    "    for x in arr:\n",
    "        if x > mid:\n",
    "            total += x - mid\n",
    "    if total < m:\n",
    "        end = mid - 1\n",
    "    else:\n",
    "        result = mid\n",
    "        start = mid + 1\n",
    "print(result)"
   ]
  }
 ],
 "metadata": {
  "kernelspec": {
   "display_name": "Python 3 (ipykernel)",
   "language": "python",
   "name": "python3"
  },
  "language_info": {
   "codemirror_mode": {
    "name": "ipython",
    "version": 3
   },
   "file_extension": ".py",
   "mimetype": "text/x-python",
   "name": "python",
   "nbconvert_exporter": "python",
   "pygments_lexer": "ipython3",
   "version": "3.9.7"
  }
 },
 "nbformat": 4,
 "nbformat_minor": 5
}
