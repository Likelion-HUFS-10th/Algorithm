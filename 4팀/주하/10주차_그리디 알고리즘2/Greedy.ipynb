{
 "cells": [
  {
   "cell_type": "markdown",
   "id": "a103f9ca-c232-4823-bc46-d5dfded4f746",
   "metadata": {},
   "source": [
    "# <그리디 알고리즘>\n",
    "- 단순 무식하게 탐욕적으로 문제를 푸는 알고리즘, 욕심쟁이 알고리즘\n",
    "- '현재 상황에서 지금 당장 좋은 것만 고르는 방법'\n",
    "- 현재의 선택이 나중에 미칠 영향에 대해서 고려X\n",
    "- 대표적인 문제 -> '거스름돈'문제"
   ]
  },
  {
   "cell_type": "markdown",
   "id": "d53b231a-bd8d-4128-a764-de1bd7f0c154",
   "metadata": {},
   "source": [
    "### 예제3-1) 거스름돈 \n",
    "* 손님에게 거슬러 줘야 할 돈이 N원일 때 거슬러 줘야 할 동전의 최소 개수 구하기 ( 단, 거슬러 줘야 할 돈 N은 항상 10의 배수이다)\n",
    "* 가장 큰 화폐 단위부터!\n",
    "* 거스름돈 500원, 100원, 50원, 10원"
   ]
  },
  {
   "cell_type": "code",
   "execution_count": 1,
   "id": "640bbe44-1c6d-4069-8ffc-b460ffee2208",
   "metadata": {},
   "outputs": [
    {
     "name": "stdin",
     "output_type": "stream",
     "text": [
      " 1260\n"
     ]
    },
    {
     "name": "stdout",
     "output_type": "stream",
     "text": [
      "6\n"
     ]
    }
   ],
   "source": [
    "# 내가 푼 답안\n",
    "money = int(input())\n",
    "num = 0\n",
    "\n",
    "for _ in range (4):\n",
    "    if money // 500 != 0:\n",
    "        num = num + (money // 500)\n",
    "        money = money % 500\n",
    "        \n",
    "    elif money // 100 != 0:\n",
    "        num = num + (money // 100)\n",
    "        money = money % 100\n",
    "\n",
    "    elif money // 50 != 0:\n",
    "        num = num + (money // 50)\n",
    "        money = money % 50\n",
    "    \n",
    "    elif money // 10 != 0:\n",
    "        num = num + (money // 10)\n",
    "        money = money % 10\n",
    "\n",
    "print(num)\n",
    "    "
   ]
  },
  {
   "cell_type": "code",
   "execution_count": 2,
   "id": "29a3eeb7-caa1-422e-b88a-b6c2d68eacbd",
   "metadata": {},
   "outputs": [
    {
     "name": "stdout",
     "output_type": "stream",
     "text": [
      "6\n"
     ]
    }
   ],
   "source": [
    "# 답안 예시\n",
    "n = 1260\n",
    "count = 0\n",
    "\n",
    "coin_types = [500, 100, 50, 10]\n",
    "\n",
    "for coin in coin_types:\n",
    "    count += n // coin\n",
    "    n %= coin\n",
    "\n",
    "print(count)"
   ]
  },
  {
   "cell_type": "markdown",
   "id": "7248c01a-b1f1-42bb-9860-d0661a5d9a6e",
   "metadata": {},
   "source": [
    "### !그리디 알고리즘의 정당성!\n",
    "- 탐욕적으로 문제에 접근했을 때 정확한 답을 찾을 수 있다는 보장이 있을 때 -> 매우 효과적 직관적\n",
    "- 대부분의 그리디 알고리즘 문제에서는 문제 풀이를 위한 최소한의 아이디어를 떠올리고 이것이 정당한지 검토할 수 있어야 답 도출 가능!!"
   ]
  },
  {
   "cell_type": "markdown",
   "id": "15319532-4240-44bd-bb20-48b844d55629",
   "metadata": {},
   "source": [
    "### 실전 문제 2) 큰 수의 법칙\n",
    "- 주어진 수들을 M번 더하여 가장 큰 수를 만드는 법칙(단, 배열의 특정한 인덱스에 해당하는 수가 연속해서 K번을 초과하여 더해질 수 없는 것이 특징)\n",
    "- 먼저, 첫 번째 큰 수, 두 번째 큰 수 찾기 -> 그 다음에 반복해서 더해주는 거 찾기"
   ]
  },
  {
   "cell_type": "code",
   "execution_count": 3,
   "id": "0f8287bf-4a6c-478c-a28a-329a7895105c",
   "metadata": {},
   "outputs": [
    {
     "name": "stdin",
     "output_type": "stream",
     "text": [
      " 5 8 3\n",
      " 2 4 5 4 6\n"
     ]
    },
    {
     "name": "stdout",
     "output_type": "stream",
     "text": [
      "46\n"
     ]
    }
   ],
   "source": [
    "# 내가 푼 답안\n",
    "'''\n",
    "\n",
    "6 6 6 6 6 6 6 6   m은 8번, k는 3번 => k+1 전까지만 연속 더하기 가능\n",
    "0 1 2 (3) 4 5 6 (7) \n",
    "\n",
    "'''\n",
    "n, m, k = map(int,input().split())\n",
    "\n",
    "num = list(map(int,input().split()))\n",
    "\n",
    "first = max(num)\n",
    "num.remove(max(num))\n",
    "second = max(num)\n",
    "\n",
    "cnt1 = m // (k+1)\n",
    "cnt2 = m - cnt1\n",
    "second_total = cnt1 * second\n",
    "first_total = cnt2 * first\n",
    "total = first_total + second_total\n",
    "\n",
    "print(total)"
   ]
  },
  {
   "cell_type": "code",
   "execution_count": 4,
   "id": "fbd95268-bbd3-43e7-9b79-cee197d469f8",
   "metadata": {},
   "outputs": [
    {
     "name": "stdin",
     "output_type": "stream",
     "text": [
      " 5 8 3 \n",
      " 2 4 5 4 6\n"
     ]
    },
    {
     "name": "stdout",
     "output_type": "stream",
     "text": [
      "46\n"
     ]
    }
   ],
   "source": [
    "# 답안 예시 1.\n",
    "\n",
    "n, m, k = map(int, input().split())\n",
    "data = list(map(int,input().split()))\n",
    "\n",
    "data.sort()\n",
    "first = data[n-1]\n",
    "second = data[n-2]\n",
    "\n",
    "result = 0\n",
    "\n",
    "while True:\n",
    "    for i in range(k):\n",
    "        if  m == 0:\n",
    "            break\n",
    "        result += first\n",
    "        m -= 1\n",
    "    if m == 0:\n",
    "        break\n",
    "    result += second\n",
    "    m -= 1\n",
    "    \n",
    "print(result)"
   ]
  },
  {
   "cell_type": "code",
   "execution_count": 5,
   "id": "99020521-651e-47f5-a44c-965e612c5578",
   "metadata": {},
   "outputs": [
    {
     "name": "stdin",
     "output_type": "stream",
     "text": [
      " 5 8 3\n",
      " 2 4 5 4 6\n"
     ]
    },
    {
     "name": "stdout",
     "output_type": "stream",
     "text": [
      "46\n"
     ]
    }
   ],
   "source": [
    "# 답안 예시 2.\n",
    "n, m, k = map(int, input().split())\n",
    "data = list(map(int,input().split()))\n",
    "\n",
    "data.sort()\n",
    "first = data[n-1]\n",
    "second = data[n-2]\n",
    "\n",
    "count = int(m/(k+1)) * k\n",
    "count += m % (k+1)\n",
    "\n",
    "result = 0\n",
    "result += (count) * first\n",
    "result += (m-count) * second\n",
    "\n",
    "print(result)"
   ]
  },
  {
   "cell_type": "markdown",
   "id": "e23f05e1-4f9b-4478-b926-6e74e9a5396c",
   "metadata": {},
   "source": [
    "### 실전 문제 3) 숫자 카드 게임\n",
    "- 여러 개의 숫자 카드 중에서 가장 높은 숫자가 쓰인 카드 한 장을 뽑는 게임\n",
    "    1. N X M 형태, N은 행의 개수, M은 열의 개수\n",
    "    2. 먼저 뽑고자 하는 카드가 포함되어 있는 행을 선택\n",
    "    3. 그다음 선택된 행에 포함된 카드들 중 가장 숫자가 낮은 카드를 뽑기\n",
    "    4. 처음에 카드를 골라낼 행을 선택할 때, 이후에 해당 행에서 가장 숫자가 낮은 카드를 뽑을 것을 고려하여 최종적으로 가장 높은 숫자의 카드를 뽑을 수 있도록 전략 세우기\n",
    "- '각 행마다 가장 작은 수를 찾은 뒤에 그 수 중에서 가장 큰 수'를 찾는 것이 관건"
   ]
  },
  {
   "cell_type": "code",
   "execution_count": 6,
   "id": "8493ecf0-b228-4924-a9d5-68a5879273ac",
   "metadata": {},
   "outputs": [
    {
     "name": "stdin",
     "output_type": "stream",
     "text": [
      " 3 3\n",
      " 3 1 2\n",
      " 4 1 4\n",
      " 2 2 2\n"
     ]
    },
    {
     "name": "stdout",
     "output_type": "stream",
     "text": [
      "2\n"
     ]
    }
   ],
   "source": [
    "# 내가 푼 답안\n",
    "'''\n",
    "for문을 이용해서 행마다 돌면서 가장 작은 값을 찾는다.\n",
    "행에서 찾은 가장 작은 값을 새로운 list에 넣어준다.\n",
    "list에 담은 가장 작은 값끼리 서로 비교한 뒤 큰 값을 찾아서 출력한다.\n",
    "'''\n",
    "n,m = map(int,input().split())\n",
    "card_list = [list(map(int,input().split())) for _ in range(n)]\n",
    "max_row = []\n",
    "\n",
    "for i in range(n):\n",
    "    max_row.append(min(card_list[i]))\n",
    "result = max(max_row)\n",
    "print(result)"
   ]
  },
  {
   "cell_type": "code",
   "execution_count": 8,
   "id": "422854c0-5dc5-40c3-945c-0be4e98856b2",
   "metadata": {},
   "outputs": [
    {
     "name": "stdin",
     "output_type": "stream",
     "text": [
      " 2 4\n",
      " 7 3 1 8\n",
      " 3 3 3 4\n"
     ]
    },
    {
     "name": "stdout",
     "output_type": "stream",
     "text": [
      "3\n"
     ]
    }
   ],
   "source": [
    "# 답안 예시 1. min() 함수를 이용함\n",
    "n,m = map(int,input().split())\n",
    "\n",
    "result = 0\n",
    "\n",
    "#for문 하나로 모두 해결함(간단)\n",
    "for i in range(n):\n",
    "    data = list(map(int,input().split()))\n",
    "    min_value = min(data)\n",
    "    result = max(result, min_value)\n",
    "\n",
    "print(result)\n"
   ]
  },
  {
   "cell_type": "code",
   "execution_count": 9,
   "id": "4bdbd664-65c5-4c61-994a-f2b9c01e0df6",
   "metadata": {},
   "outputs": [
    {
     "name": "stdin",
     "output_type": "stream",
     "text": [
      " 2 4 \n",
      " 7 3 1 8\n",
      " 3 3 3 4\n"
     ]
    },
    {
     "name": "stdout",
     "output_type": "stream",
     "text": [
      "3\n"
     ]
    }
   ],
   "source": [
    "# 답안 예시 2. 2중 for문 이용함\n",
    "n,m = map(int,input().split())\n",
    "\n",
    "result = 0\n",
    "\n",
    "for i in range(n):\n",
    "    data = list(map(int,input().split()))\n",
    "    min_value = 10001\n",
    "    for j in data:\n",
    "        min_value = min(min_value, j)\n",
    "    result = max(result, min_value) \n",
    "\n",
    "print(result)"
   ]
  },
  {
   "cell_type": "markdown",
   "id": "c63939eb-aa50-4eed-88fd-982e66d96eca",
   "metadata": {},
   "source": [
    "### 실전 문제 4) 1이 될 때까지\n",
    "- 어떠한 수 N이 1이 될 때까지 1. N에서 1을 뺀다 2. N을 K로 나눈다. 두 과정 중 하나를 반복적으로 선택하여 수행.\n",
    "    (단, 두 번째 연산은 N이 K로 나누어떨어질 때만 선택할 수 있다.)\n",
    "- N과 K가 주어질 때 N이 1이 될 때까지 1번 혹은 2번의 과정을 수행해야 하는 최소 횟수를 구하는 프로그램 작성하기.\n",
    "- Hint! '최대한 많이 나누기'"
   ]
  },
  {
   "cell_type": "code",
   "execution_count": 13,
   "id": "8aa58f3d-aa1f-4f04-8a36-cdee015b6be3",
   "metadata": {},
   "outputs": [
    {
     "name": "stdin",
     "output_type": "stream",
     "text": [
      " 17 4\n"
     ]
    },
    {
     "name": "stdout",
     "output_type": "stream",
     "text": [
      "3\n"
     ]
    }
   ],
   "source": [
    "# 내가 푼 답안\n",
    "n,k = map(int,input().split())\n",
    "\n",
    "cnt = 0\n",
    "\n",
    "while True:\n",
    "    if n == 1:\n",
    "        break\n",
    "    else: \n",
    "        if n % k == 0:\n",
    "            n = n // k \n",
    "            cnt += 1\n",
    "        else:\n",
    "            n -= 1\n",
    "            cnt += 1\n",
    "print(cnt)"
   ]
  },
  {
   "cell_type": "code",
   "execution_count": 11,
   "id": "1082d80a-e4c2-4387-83db-996050624138",
   "metadata": {},
   "outputs": [
    {
     "name": "stdin",
     "output_type": "stream",
     "text": [
      " 25 5\n"
     ]
    },
    {
     "name": "stdout",
     "output_type": "stream",
     "text": [
      "2\n"
     ]
    }
   ],
   "source": [
    "# 답안 예시 1.\n",
    "n,k = map(int,input().split())\n",
    "\n",
    "result = 0\n",
    "\n",
    "while n >= k :\n",
    "    while n % k != 0:\n",
    "        n -= 1\n",
    "        result += 1\n",
    "    n //= k\n",
    "    result += 1\n",
    "\n",
    "#??\n",
    "while n > 1 :\n",
    "    n -=1\n",
    "    result += 1\n",
    "\n",
    "print(result)"
   ]
  },
  {
   "cell_type": "code",
   "execution_count": 12,
   "id": "57c08315-be37-4afa-b025-9aec7ceaac1f",
   "metadata": {},
   "outputs": [
    {
     "name": "stdin",
     "output_type": "stream",
     "text": [
      " 25 5\n"
     ]
    },
    {
     "name": "stdout",
     "output_type": "stream",
     "text": [
      "2\n"
     ]
    }
   ],
   "source": [
    "# 답안 예시 2. (100억 이상일 때)\n",
    "n,k = map(int,input().split())\n",
    "\n",
    "result = 0\n",
    "\n",
    "while True:\n",
    "    target = (n//k) * k\n",
    "    result += (n - target)\n",
    "    n = target\n",
    "    if n < k:\n",
    "        break\n",
    "    result += 1\n",
    "    n //= k\n",
    "\n",
    "result += (n-1)\n",
    "print(result)"
   ]
  }
 ],
 "metadata": {
  "kernelspec": {
   "display_name": "Python 3 (ipykernel)",
   "language": "python",
   "name": "python3"
  },
  "language_info": {
   "codemirror_mode": {
    "name": "ipython",
    "version": 3
   },
   "file_extension": ".py",
   "mimetype": "text/x-python",
   "name": "python",
   "nbconvert_exporter": "python",
   "pygments_lexer": "ipython3",
   "version": "3.9.7"
  }
 },
 "nbformat": 4,
 "nbformat_minor": 5
}
